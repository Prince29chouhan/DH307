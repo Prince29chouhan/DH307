{
 "cells": [
  {
   "cell_type": "code",
   "execution_count": 1,
   "metadata": {
    "id": "YjHqVvWRr-6x"
   },
   "outputs": [],
   "source": [
    "import os\n",
    "os.environ['PYDEVD_DISABLE_FILE_VALIDATION'] = '1'\n"
   ]
  },
  {
   "cell_type": "code",
   "execution_count": 3,
   "metadata": {
    "id": "2BWV3S4isitU"
   },
   "outputs": [],
   "source": [
    "import sys\n",
    "sys.argv.append(\"-Xfrozen_modules=off\")\n"
   ]
  },
  {
   "cell_type": "code",
   "execution_count": 110,
   "metadata": {
    "id": "7M1Mf5iRnBnQ"
   },
   "outputs": [],
   "source": [
    "import pandas as pd\n",
    "import numpy as np\n",
    "from sklearn.impute import KNNImputer\n",
    "from sklearn.preprocessing import MinMaxScaler, StandardScaler\n",
    "from sklearn.ensemble import RandomForestRegressor\n",
    "from sklearn.model_selection import train_test_split, cross_val_score\n",
    "from sklearn.pipeline import Pipeline\n",
    "from sklearn.tree import DecisionTreeRegressor\n",
    "from sklearn.ensemble import GradientBoostingRegressor, AdaBoostRegressor, ExtraTreesRegressor\n",
    "from sklearn.linear_model import LinearRegression\n",
    "from sklearn.metrics import mean_squared_error"
   ]
  },
  {
   "cell_type": "code",
   "execution_count": 112,
   "metadata": {
    "id": "tBzFOZLqnC4C"
   },
   "outputs": [],
   "source": [
    "# Load Data\n",
    "df = pd.read_csv(\"NFHS_5_India_Districts_Factsheet_Data.csv\")\n",
    "\n",
    "# Replace non-numeric values with NaN\n",
    "df.replace(r'[*()\\-,]', '', regex=True, inplace=True)\n",
    "\n",
    "# Convert all possible columns to numeric\n",
    "df = df.apply(pd.to_numeric, errors='coerce')\n"
   ]
  },
  {
   "cell_type": "code",
   "execution_count": 114,
   "metadata": {
    "colab": {
     "base_uri": "https://localhost:8080/",
     "height": 603
    },
    "id": "CnIOplZ6nibH",
    "outputId": "629733d5-4f8e-4396-cd14-295f78734cac"
   },
   "outputs": [
    {
     "data": {
      "text/html": [
       "<div>\n",
       "<style scoped>\n",
       "    .dataframe tbody tr th:only-of-type {\n",
       "        vertical-align: middle;\n",
       "    }\n",
       "\n",
       "    .dataframe tbody tr th {\n",
       "        vertical-align: top;\n",
       "    }\n",
       "\n",
       "    .dataframe thead th {\n",
       "        text-align: right;\n",
       "    }\n",
       "</style>\n",
       "<table border=\"1\" class=\"dataframe\">\n",
       "  <thead>\n",
       "    <tr style=\"text-align: right;\">\n",
       "      <th></th>\n",
       "      <th>District Names</th>\n",
       "      <th>State/UT</th>\n",
       "      <th>Number of Households surveyed</th>\n",
       "      <th>Number of Women age 15-49 years interviewed</th>\n",
       "      <th>Number of Men age 15-54 years interviewed</th>\n",
       "      <th>Female population age 6 years and above who ever attended school (%)</th>\n",
       "      <th>Population below age 15 years (%)</th>\n",
       "      <th>Sex ratio of the total population (females per 1,000 males)</th>\n",
       "      <th>Sex ratio at birth for children born in the last five years (females per 1,000 males)</th>\n",
       "      <th>Children under age 5 years whose birth was registered with the civil authority (%)</th>\n",
       "      <th>...</th>\n",
       "      <th>Men age 15 years and above wih Mildly elevated blood pressure (Systolic 140-159 mm of Hg and/or Diastolic 90-99 mm of Hg) (%)</th>\n",
       "      <th>Men age 15 years and above wih Moderately or severely elevated blood pressure (Systolic ≥160 mm of Hg and/or Diastolic ≥100 mm of Hg) (%)</th>\n",
       "      <th>Men age 15 years and above wih Elevated blood pressure (Systolic ≥140 mm of Hg and/or Diastolic ≥90 mm of Hg) or taking medicine to control blood pressure (%)</th>\n",
       "      <th>Women (age 30-49 years) Ever undergone a screening test for cervical cancer (%)</th>\n",
       "      <th>Women (age 30-49 years) Ever undergone a breast examination for breast cancer (%)</th>\n",
       "      <th>Women (age 30-49 years) Ever undergone an oral cavity examination for oral cancer (%)</th>\n",
       "      <th>Women age 15 years and above who use any kind of tobacco (%)</th>\n",
       "      <th>Men age 15 years and above who use any kind of tobacco (%)</th>\n",
       "      <th>Women age 15 years and above who consume alcohol (%)</th>\n",
       "      <th>Men age 15 years and above who consume alcohol (%)</th>\n",
       "    </tr>\n",
       "  </thead>\n",
       "  <tbody>\n",
       "    <tr>\n",
       "      <th>0</th>\n",
       "      <td>NaN</td>\n",
       "      <td>NaN</td>\n",
       "      <td>882</td>\n",
       "      <td>764</td>\n",
       "      <td>125</td>\n",
       "      <td>78.0</td>\n",
       "      <td>23.0</td>\n",
       "      <td>973</td>\n",
       "      <td>927</td>\n",
       "      <td>98.0</td>\n",
       "      <td>...</td>\n",
       "      <td>32.9</td>\n",
       "      <td>11.1</td>\n",
       "      <td>47.0</td>\n",
       "      <td>13.4</td>\n",
       "      <td>13.2</td>\n",
       "      <td>5.4</td>\n",
       "      <td>63.5</td>\n",
       "      <td>76.8</td>\n",
       "      <td>29.6</td>\n",
       "      <td>64.5</td>\n",
       "    </tr>\n",
       "    <tr>\n",
       "      <th>1</th>\n",
       "      <td>NaN</td>\n",
       "      <td>NaN</td>\n",
       "      <td>874</td>\n",
       "      <td>789</td>\n",
       "      <td>108</td>\n",
       "      <td>82.7</td>\n",
       "      <td>19.8</td>\n",
       "      <td>950</td>\n",
       "      <td>844</td>\n",
       "      <td>100.0</td>\n",
       "      <td>...</td>\n",
       "      <td>22.6</td>\n",
       "      <td>6.0</td>\n",
       "      <td>32.2</td>\n",
       "      <td>1.7</td>\n",
       "      <td>0.3</td>\n",
       "      <td>15.8</td>\n",
       "      <td>46.8</td>\n",
       "      <td>70.5</td>\n",
       "      <td>5.1</td>\n",
       "      <td>45.3</td>\n",
       "    </tr>\n",
       "    <tr>\n",
       "      <th>2</th>\n",
       "      <td>NaN</td>\n",
       "      <td>NaN</td>\n",
       "      <td>868</td>\n",
       "      <td>844</td>\n",
       "      <td>134</td>\n",
       "      <td>84.7</td>\n",
       "      <td>21.0</td>\n",
       "      <td>967</td>\n",
       "      <td>935</td>\n",
       "      <td>96.5</td>\n",
       "      <td>...</td>\n",
       "      <td>17.9</td>\n",
       "      <td>6.1</td>\n",
       "      <td>26.9</td>\n",
       "      <td>1.3</td>\n",
       "      <td>0.7</td>\n",
       "      <td>8.0</td>\n",
       "      <td>19.6</td>\n",
       "      <td>50.8</td>\n",
       "      <td>1.7</td>\n",
       "      <td>32.8</td>\n",
       "    </tr>\n",
       "    <tr>\n",
       "      <th>3</th>\n",
       "      <td>NaN</td>\n",
       "      <td>NaN</td>\n",
       "      <td>874</td>\n",
       "      <td>780</td>\n",
       "      <td>100</td>\n",
       "      <td>60.0</td>\n",
       "      <td>20.7</td>\n",
       "      <td>1140</td>\n",
       "      <td>1163</td>\n",
       "      <td>95.0</td>\n",
       "      <td>...</td>\n",
       "      <td>14.4</td>\n",
       "      <td>5.5</td>\n",
       "      <td>22.9</td>\n",
       "      <td>1.0</td>\n",
       "      <td>0.2</td>\n",
       "      <td>3.8</td>\n",
       "      <td>7.1</td>\n",
       "      <td>21.3</td>\n",
       "      <td>0.6</td>\n",
       "      <td>28.3</td>\n",
       "    </tr>\n",
       "    <tr>\n",
       "      <th>4</th>\n",
       "      <td>NaN</td>\n",
       "      <td>NaN</td>\n",
       "      <td>902</td>\n",
       "      <td>853</td>\n",
       "      <td>134</td>\n",
       "      <td>56.0</td>\n",
       "      <td>20.6</td>\n",
       "      <td>1114</td>\n",
       "      <td>898</td>\n",
       "      <td>95.4</td>\n",
       "      <td>...</td>\n",
       "      <td>14.8</td>\n",
       "      <td>6.4</td>\n",
       "      <td>25.1</td>\n",
       "      <td>4.9</td>\n",
       "      <td>0.6</td>\n",
       "      <td>7.3</td>\n",
       "      <td>11.4</td>\n",
       "      <td>21.5</td>\n",
       "      <td>0.8</td>\n",
       "      <td>32.3</td>\n",
       "    </tr>\n",
       "  </tbody>\n",
       "</table>\n",
       "<p>5 rows × 109 columns</p>\n",
       "</div>"
      ],
      "text/plain": [
       "   District Names  State/UT  Number of Households surveyed  \\\n",
       "0             NaN       NaN                            882   \n",
       "1             NaN       NaN                            874   \n",
       "2             NaN       NaN                            868   \n",
       "3             NaN       NaN                            874   \n",
       "4             NaN       NaN                            902   \n",
       "\n",
       "   Number of Women age 15-49 years interviewed  \\\n",
       "0                                          764   \n",
       "1                                          789   \n",
       "2                                          844   \n",
       "3                                          780   \n",
       "4                                          853   \n",
       "\n",
       "   Number of Men age 15-54 years interviewed  \\\n",
       "0                                        125   \n",
       "1                                        108   \n",
       "2                                        134   \n",
       "3                                        100   \n",
       "4                                        134   \n",
       "\n",
       "   Female population age 6 years and above who ever attended school (%)  \\\n",
       "0                                               78.0                      \n",
       "1                                               82.7                      \n",
       "2                                               84.7                      \n",
       "3                                               60.0                      \n",
       "4                                               56.0                      \n",
       "\n",
       "   Population below age 15 years (%)  \\\n",
       "0                               23.0   \n",
       "1                               19.8   \n",
       "2                               21.0   \n",
       "3                               20.7   \n",
       "4                               20.6   \n",
       "\n",
       "    Sex ratio of the total population (females per 1,000 males)  \\\n",
       "0                                                973              \n",
       "1                                                950              \n",
       "2                                                967              \n",
       "3                                               1140              \n",
       "4                                               1114              \n",
       "\n",
       "   Sex ratio at birth for children born in the last five years (females per 1,000 males)  \\\n",
       "0                                                927                                       \n",
       "1                                                844                                       \n",
       "2                                                935                                       \n",
       "3                                               1163                                       \n",
       "4                                                898                                       \n",
       "\n",
       "   Children under age 5 years whose birth was registered with the civil authority (%)  \\\n",
       "0                                               98.0                                    \n",
       "1                                              100.0                                    \n",
       "2                                               96.5                                    \n",
       "3                                               95.0                                    \n",
       "4                                               95.4                                    \n",
       "\n",
       "   ...  \\\n",
       "0  ...   \n",
       "1  ...   \n",
       "2  ...   \n",
       "3  ...   \n",
       "4  ...   \n",
       "\n",
       "   Men age 15 years and above wih Mildly elevated blood pressure (Systolic 140-159 mm of Hg and/or Diastolic 90-99 mm of Hg) (%)  \\\n",
       "0                                               32.9                                                                               \n",
       "1                                               22.6                                                                               \n",
       "2                                               17.9                                                                               \n",
       "3                                               14.4                                                                               \n",
       "4                                               14.8                                                                               \n",
       "\n",
       "   Men age 15 years and above wih Moderately or severely elevated blood pressure (Systolic ≥160 mm of Hg and/or Diastolic ≥100 mm of Hg) (%)  \\\n",
       "0                                               11.1                                                                                           \n",
       "1                                                6.0                                                                                           \n",
       "2                                                6.1                                                                                           \n",
       "3                                                5.5                                                                                           \n",
       "4                                                6.4                                                                                           \n",
       "\n",
       "   Men age 15 years and above wih Elevated blood pressure (Systolic ≥140 mm of Hg and/or Diastolic ≥90 mm of Hg) or taking medicine to control blood pressure (%)  \\\n",
       "0                                               47.0                                                                                                                \n",
       "1                                               32.2                                                                                                                \n",
       "2                                               26.9                                                                                                                \n",
       "3                                               22.9                                                                                                                \n",
       "4                                               25.1                                                                                                                \n",
       "\n",
       "   Women (age 30-49 years) Ever undergone a screening test for cervical cancer (%)  \\\n",
       "0                                               13.4                                 \n",
       "1                                                1.7                                 \n",
       "2                                                1.3                                 \n",
       "3                                                1.0                                 \n",
       "4                                                4.9                                 \n",
       "\n",
       "   Women (age 30-49 years) Ever undergone a breast examination for breast cancer (%)  \\\n",
       "0                                               13.2                                   \n",
       "1                                                0.3                                   \n",
       "2                                                0.7                                   \n",
       "3                                                0.2                                   \n",
       "4                                                0.6                                   \n",
       "\n",
       "   Women (age 30-49 years) Ever undergone an oral cavity examination for oral cancer (%)  \\\n",
       "0                                                5.4                                       \n",
       "1                                               15.8                                       \n",
       "2                                                8.0                                       \n",
       "3                                                3.8                                       \n",
       "4                                                7.3                                       \n",
       "\n",
       "   Women age 15 years and above who use any kind of tobacco (%)  \\\n",
       "0                                               63.5              \n",
       "1                                               46.8              \n",
       "2                                               19.6              \n",
       "3                                                7.1              \n",
       "4                                               11.4              \n",
       "\n",
       "   Men age 15 years and above who use any kind of tobacco (%)  \\\n",
       "0                                               76.8            \n",
       "1                                               70.5            \n",
       "2                                               50.8            \n",
       "3                                               21.3            \n",
       "4                                               21.5            \n",
       "\n",
       "   Women age 15 years and above who consume alcohol (%)  \\\n",
       "0                                               29.6      \n",
       "1                                                5.1      \n",
       "2                                                1.7      \n",
       "3                                                0.6      \n",
       "4                                                0.8      \n",
       "\n",
       "   Men age 15 years and above who consume alcohol (%)  \n",
       "0                                               64.5   \n",
       "1                                               45.3   \n",
       "2                                               32.8   \n",
       "3                                               28.3   \n",
       "4                                               32.3   \n",
       "\n",
       "[5 rows x 109 columns]"
      ]
     },
     "execution_count": 114,
     "metadata": {},
     "output_type": "execute_result"
    }
   ],
   "source": [
    "df.head()"
   ]
  },
  {
   "cell_type": "code",
   "execution_count": 116,
   "metadata": {
    "id": "ItLGpKrjnmOE"
   },
   "outputs": [],
   "source": [
    "\n",
    "# Apply KNN Imputer for missing values\n",
    "imputer = KNNImputer(n_neighbors=5)\n",
    "df.iloc[:, 2:] = imputer.fit_transform(df.iloc[:, 2:])\n"
   ]
  },
  {
   "cell_type": "code",
   "execution_count": 118,
   "metadata": {
    "colab": {
     "base_uri": "https://localhost:8080/"
    },
    "id": "iwmdktKEnoBL",
    "outputId": "3ceca7b3-4d6a-404c-d519-16a8e339047c"
   },
   "outputs": [],
   "source": [
    "# Normalize numeric columns\n",
    "scaler = MinMaxScaler()\n",
    "df.iloc[:, 2:] = scaler.fit_transform(df.iloc[:, 2:])"
   ]
  },
  {
   "cell_type": "code",
   "execution_count": 120,
   "metadata": {
    "id": "zBiQeFS3npZb"
   },
   "outputs": [],
   "source": [
    "# Rename target variable\n",
    "anaemia_col = 'All women age 15-49 years who are anaemic22 (%)'\n",
    "df.rename(columns={anaemia_col: 'anaemia_rate'}, inplace=True)\n"
   ]
  },
  {
   "cell_type": "code",
   "execution_count": 122,
   "metadata": {
    "colab": {
     "base_uri": "https://localhost:8080/"
    },
    "id": "hxXcgvv9nskQ",
    "outputId": "0c2cd36c-b906-4031-a663-ceb03a0bc23c"
   },
   "outputs": [
    {
     "name": "stdout",
     "output_type": "stream",
     "text": [
      "['District Names', 'State/UT', 'Number of Households surveyed', 'Number of Women age 15-49 years interviewed', 'Number of Men age 15-54 years interviewed', 'Female population age 6 years and above who ever attended school (%)', 'Population below age 15 years (%)', ' Sex ratio of the total population (females per 1,000 males)', 'Sex ratio at birth for children born in the last five years (females per 1,000 males)', 'Children under age 5 years whose birth was registered with the civil authority (%)', 'Deaths in the last 3 years registered with the civil authority (%)', 'Population living in households with electricity (%)', 'Population living in households with an improved drinking-water source1 (%)', 'Population living in households that use an improved sanitation facility2 (%)', 'Households using clean fuel for cooking3 (%)', 'Households using iodized salt (%)', 'Households with any usual member covered under a health insurance/financing scheme (%)', 'Children age 5 years who attended pre-primary school during the school year 2019-20 (%)', 'Women (age 15-49) who are literate4 (%)', 'Women (age 15-49)  with 10 or more years of schooling (%)', 'Women age 20-24 years married before age 18 years (%)', 'Births in the 5 years preceding the survey that are third or higher order (%)', 'Women age 15-19 years who were already mothers or pregnant at the time of the survey (%)', 'Women age 15-24 years who use hygienic methods of protection during their menstrual period5 (%)', 'Current Use of Family Planning Methods (Currently Married Women Age 15-49  years) - Any method6 (%)', 'Current Use of Family Planning Methods (Currently Married Women Age 15-49  years) - Any modern method6 (%)', 'Current Use of Family Planning Methods (Currently Married Women Age 15-49  years) - Female sterilization (%)', 'Current Use of Family Planning Methods (Currently Married Women Age 15-49  years) - Male sterilization (%)', 'Current Use of Family Planning Methods (Currently Married Women Age 15-49  years) - IUD/PPIUD (%)', 'Current Use of Family Planning Methods (Currently Married Women Age 15-49  years) - Pill (%)', 'Current Use of Family Planning Methods (Currently Married Women Age 15-49  years) - Condom (%)', 'Current Use of Family Planning Methods (Currently Married Women Age 15-49  years) - Injectables (%)', 'Total Unmet need for Family Planning (Currently Married Women Age 15-49  years)7 (%)', 'Unmet need for spacing (Currently Married Women Age 15-49  years)7 (%)', 'Health worker ever talked to female non-users about family planning (%)', 'Current users ever told about side effects of current method of family planning8 (%)', 'Mothers who had an antenatal check-up in the first trimester  (for last birth in the 5 years before the survey) (%)', 'Mothers who had at least 4 antenatal care visits  (for last birth in the 5 years before the survey) (%)', 'Mothers whose last birth was protected against neonatal tetanus (for last birth in the 5 years before the survey)9 (%)', 'Mothers who consumed iron folic acid for 100 days or more when they were pregnant (for last birth in the 5 years before the survey) (%)', 'Mothers who consumed iron folic acid for 180 days or more when they were pregnant (for last birth in the 5 years before the survey} (%)', 'Registered pregnancies for which the mother received a Mother and Child Protection (MCP) card (for last birth in the 5 years before the survey) (%)', 'Mothers who received postnatal care from a doctor/nurse/LHV/ANM/midwife/other health personnel within 2 days of delivery (for last birth in the 5 years before the survey) (%)', 'Average out-of-pocket expenditure per delivery in a public health facility (for last birth in the 5 years before the survey) (Rs.)', 'Children born at home who were taken to a health facility for a check-up within 24 hours of birth (for last birth in the 5 years before the survey} (%)', 'Children who received postnatal care from a doctor/nurse/LHV/ANM/midwife/ other health personnel within 2 days of delivery (for last birth in the 5 years before the survey) (%)', 'Institutional births (in the 5 years before the survey) (%)', 'Institutional births in public facility (in the 5 years before the survey) (%)', 'Home births that were conducted by skilled health personnel  (in the 5 years before the survey)10 (%)', 'Births attended by skilled health personnel (in the 5 years before the survey)10 (%)', 'Births delivered by caesarean section (in the 5 years before the survey) (%)', 'Births in a private health facility that were delivered by caesarean section (in the 5 years before the survey) (%)', 'Births in a public health facility that were delivered by caesarean section (in the 5 years before the survey) (%)', \"Children age 12-23 months fully vaccinated based on information from either vaccination card or mother's recall11 (%)\", 'Children age 12-23 months fully vaccinated based on information from vaccination card only12 (%)', 'Children age 12-23 months who have received BCG (%)', 'Children age 12-23 months who have received 3 doses of polio vaccine13 (%)', 'Children age 12-23 months who have received 3 doses of penta or DPT vaccine (%)', 'Children age 12-23 months who have received the first dose of measles-containing vaccine (MCV) (%)', 'Children age 24-35 months who have received a second dose of measles-containing vaccine (MCV) (%)', 'Children age 12-23 months who have received 3 doses of rotavirus vaccine14 (%)', 'Children age 12-23 months who have received 3 doses of penta or hepatitis B vaccine (%)', 'Children age 9-35 months who received a vitamin A dose in the last 6 months (%)', 'Children age 12-23 months who received most of their vaccinations in a public health facility (%)', 'Children age 12-23 months who received most of their vaccinations in a private health facility (%)', 'Prevalence of diarrhoea in the 2 weeks preceding the survey (Children under age 5 years) (%) ', 'Children with diarrhoea in the 2 weeks preceding the survey who received oral rehydration salts (ORS) (Children under age 5 years) (%) ', 'Children with diarrhoea in the 2 weeks preceding the survey who received zinc (Children under age 5 years) (%) ', 'Children swith diarrhoea in the 2 weeks preceding the survey taken to a health facility or health provider (Children under age 5 years) (%) ', 'Children Prevalence of symptoms of acute respiratory infection (ARI) in the 2 weeks preceding the survey (Children under age 5 years) (%) ', 'Children with fever or symptoms of ARI in the 2 weeks preceding the survey taken to a health facility or health provider (Children under age 5 years) (%)  ', 'Children under age 3 years breastfed within one hour of birth15 (%)', 'Children under age 6 months exclusively breastfed16 (%)', 'Children age 6-8 months receiving solid or semi-solid food and breastmilk16 (%)', 'Breastfeeding children age 6-23 months receiving an adequate diet16, 17  (%)', 'Non-breastfeeding children age 6-23 months receiving an adequate diet16, 17 (%)', 'Total children age 6-23 months receiving an adequate diet16, 17  (%)', 'Children under 5 years who are stunted (height-for-age)18 (%)', 'Children under 5 years who are wasted (weight-for-height)18 (%)', 'Children under 5 years who are severely wasted (weight-for-height)19 (%)', 'Children under 5 years who are underweight (weight-for-age)18 (%)', 'Children under 5 years who are overweight (weight-for-height)20 (%)', 'Women (age 15-49 years) whose Body Mass Index (BMI) is below normal (BMI <18.5 kg/m2)21 (%)', 'Women (age 15-49 years) who are overweight or obese (BMI ≥25.0 kg/m2)21 (%)', 'Women (age 15-49 years) who have high risk waist-to-hip ratio (≥0.85) (%)', 'Children age 6-59 months who are anaemic (<11.0 g/dl)22 (%)', 'Non-pregnant women age 15-49 years who are anaemic (<12.0 g/dl)22 (%)', 'Pregnant women age 15-49 years who are anaemic (<11.0 g/dl)22 (%)', 'anaemia_rate', 'All women age 15-19 years who are anaemic22 (%) ', 'Women  age 15 years and above with high (141-160 mg/dl) Blood sugar level23 (%)', 'Women age 15 years and above wih very high (>160 mg/dl) Blood sugar level23 (%)', 'Women age 15 years and above wih high or very high (>140 mg/dl) Blood sugar level or taking medicine to control blood sugar level23 (%)', 'Men age 15 years and above wih high (141-160 mg/dl) Blood sugar level23 (%)', 'Men (age 15 years and above wih  very high (>160 mg/dl) Blood sugar level23 (%)', 'Men age 15 years and above wih high or very high (>140 mg/dl) Blood sugar level  or taking medicine to control blood sugar level23 (%)', 'Women age 15 years and above wih Mildly elevated blood pressure (Systolic 140-159 mm of Hg and/or Diastolic 90-99 mm of Hg) (%)', 'Women age 15 years and above wih Moderately or severely elevated blood pressure (Systolic ≥160 mm of Hg and/or Diastolic ≥100 mm of Hg) (%)', 'Women age 15 years and above wih Elevated blood pressure (Systolic ≥140 mm of Hg and/or Diastolic ≥90 mm of Hg) or taking medicine to control blood pressure (%)', 'Men age 15 years and above wih Mildly elevated blood pressure (Systolic 140-159 mm of Hg and/or Diastolic 90-99 mm of Hg) (%)', 'Men age 15 years and above wih Moderately or severely elevated blood pressure (Systolic ≥160 mm of Hg and/or Diastolic ≥100 mm of Hg) (%)', 'Men age 15 years and above wih Elevated blood pressure (Systolic ≥140 mm of Hg and/or Diastolic ≥90 mm of Hg) or taking medicine to control blood pressure (%)', 'Women (age 30-49 years) Ever undergone a screening test for cervical cancer (%)', 'Women (age 30-49 years) Ever undergone a breast examination for breast cancer (%)', 'Women (age 30-49 years) Ever undergone an oral cavity examination for oral cancer (%)', 'Women age 15 years and above who use any kind of tobacco (%)', 'Men age 15 years and above who use any kind of tobacco (%)', 'Women age 15 years and above who consume alcohol (%)', 'Men age 15 years and above who consume alcohol (%)']\n"
     ]
    }
   ],
   "source": [
    "print(df.columns.tolist())"
   ]
  },
  {
   "cell_type": "code",
   "execution_count": 124,
   "metadata": {
    "id": "p6WGvGcUntrh"
   },
   "outputs": [],
   "source": [
    "df = df.drop(columns=[col for col in df.columns if \"anaemic22\" in col], errors='ignore')\n"
   ]
  },
  {
   "cell_type": "code",
   "execution_count": 126,
   "metadata": {
    "colab": {
     "base_uri": "https://localhost:8080/"
    },
    "id": "InpkvIZGnv6O",
    "outputId": "b06e3953-bce8-4df1-cd7c-b39d4399a258"
   },
   "outputs": [
    {
     "name": "stdout",
     "output_type": "stream",
     "text": [
      "['District Names', 'State/UT', 'Number of Households surveyed', 'Number of Women age 15-49 years interviewed', 'Number of Men age 15-54 years interviewed', 'Female population age 6 years and above who ever attended school (%)', 'Population below age 15 years (%)', ' Sex ratio of the total population (females per 1,000 males)', 'Sex ratio at birth for children born in the last five years (females per 1,000 males)', 'Children under age 5 years whose birth was registered with the civil authority (%)', 'Deaths in the last 3 years registered with the civil authority (%)', 'Population living in households with electricity (%)', 'Population living in households with an improved drinking-water source1 (%)', 'Population living in households that use an improved sanitation facility2 (%)', 'Households using clean fuel for cooking3 (%)', 'Households using iodized salt (%)', 'Households with any usual member covered under a health insurance/financing scheme (%)', 'Children age 5 years who attended pre-primary school during the school year 2019-20 (%)', 'Women (age 15-49) who are literate4 (%)', 'Women (age 15-49)  with 10 or more years of schooling (%)', 'Women age 20-24 years married before age 18 years (%)', 'Births in the 5 years preceding the survey that are third or higher order (%)', 'Women age 15-19 years who were already mothers or pregnant at the time of the survey (%)', 'Women age 15-24 years who use hygienic methods of protection during their menstrual period5 (%)', 'Current Use of Family Planning Methods (Currently Married Women Age 15-49  years) - Any method6 (%)', 'Current Use of Family Planning Methods (Currently Married Women Age 15-49  years) - Any modern method6 (%)', 'Current Use of Family Planning Methods (Currently Married Women Age 15-49  years) - Female sterilization (%)', 'Current Use of Family Planning Methods (Currently Married Women Age 15-49  years) - Male sterilization (%)', 'Current Use of Family Planning Methods (Currently Married Women Age 15-49  years) - IUD/PPIUD (%)', 'Current Use of Family Planning Methods (Currently Married Women Age 15-49  years) - Pill (%)', 'Current Use of Family Planning Methods (Currently Married Women Age 15-49  years) - Condom (%)', 'Current Use of Family Planning Methods (Currently Married Women Age 15-49  years) - Injectables (%)', 'Total Unmet need for Family Planning (Currently Married Women Age 15-49  years)7 (%)', 'Unmet need for spacing (Currently Married Women Age 15-49  years)7 (%)', 'Health worker ever talked to female non-users about family planning (%)', 'Current users ever told about side effects of current method of family planning8 (%)', 'Mothers who had an antenatal check-up in the first trimester  (for last birth in the 5 years before the survey) (%)', 'Mothers who had at least 4 antenatal care visits  (for last birth in the 5 years before the survey) (%)', 'Mothers whose last birth was protected against neonatal tetanus (for last birth in the 5 years before the survey)9 (%)', 'Mothers who consumed iron folic acid for 100 days or more when they were pregnant (for last birth in the 5 years before the survey) (%)', 'Mothers who consumed iron folic acid for 180 days or more when they were pregnant (for last birth in the 5 years before the survey} (%)', 'Registered pregnancies for which the mother received a Mother and Child Protection (MCP) card (for last birth in the 5 years before the survey) (%)', 'Mothers who received postnatal care from a doctor/nurse/LHV/ANM/midwife/other health personnel within 2 days of delivery (for last birth in the 5 years before the survey) (%)', 'Average out-of-pocket expenditure per delivery in a public health facility (for last birth in the 5 years before the survey) (Rs.)', 'Children born at home who were taken to a health facility for a check-up within 24 hours of birth (for last birth in the 5 years before the survey} (%)', 'Children who received postnatal care from a doctor/nurse/LHV/ANM/midwife/ other health personnel within 2 days of delivery (for last birth in the 5 years before the survey) (%)', 'Institutional births (in the 5 years before the survey) (%)', 'Institutional births in public facility (in the 5 years before the survey) (%)', 'Home births that were conducted by skilled health personnel  (in the 5 years before the survey)10 (%)', 'Births attended by skilled health personnel (in the 5 years before the survey)10 (%)', 'Births delivered by caesarean section (in the 5 years before the survey) (%)', 'Births in a private health facility that were delivered by caesarean section (in the 5 years before the survey) (%)', 'Births in a public health facility that were delivered by caesarean section (in the 5 years before the survey) (%)', \"Children age 12-23 months fully vaccinated based on information from either vaccination card or mother's recall11 (%)\", 'Children age 12-23 months fully vaccinated based on information from vaccination card only12 (%)', 'Children age 12-23 months who have received BCG (%)', 'Children age 12-23 months who have received 3 doses of polio vaccine13 (%)', 'Children age 12-23 months who have received 3 doses of penta or DPT vaccine (%)', 'Children age 12-23 months who have received the first dose of measles-containing vaccine (MCV) (%)', 'Children age 24-35 months who have received a second dose of measles-containing vaccine (MCV) (%)', 'Children age 12-23 months who have received 3 doses of rotavirus vaccine14 (%)', 'Children age 12-23 months who have received 3 doses of penta or hepatitis B vaccine (%)', 'Children age 9-35 months who received a vitamin A dose in the last 6 months (%)', 'Children age 12-23 months who received most of their vaccinations in a public health facility (%)', 'Children age 12-23 months who received most of their vaccinations in a private health facility (%)', 'Prevalence of diarrhoea in the 2 weeks preceding the survey (Children under age 5 years) (%) ', 'Children with diarrhoea in the 2 weeks preceding the survey who received oral rehydration salts (ORS) (Children under age 5 years) (%) ', 'Children with diarrhoea in the 2 weeks preceding the survey who received zinc (Children under age 5 years) (%) ', 'Children swith diarrhoea in the 2 weeks preceding the survey taken to a health facility or health provider (Children under age 5 years) (%) ', 'Children Prevalence of symptoms of acute respiratory infection (ARI) in the 2 weeks preceding the survey (Children under age 5 years) (%) ', 'Children with fever or symptoms of ARI in the 2 weeks preceding the survey taken to a health facility or health provider (Children under age 5 years) (%)  ', 'Children under age 3 years breastfed within one hour of birth15 (%)', 'Children under age 6 months exclusively breastfed16 (%)', 'Children age 6-8 months receiving solid or semi-solid food and breastmilk16 (%)', 'Breastfeeding children age 6-23 months receiving an adequate diet16, 17  (%)', 'Non-breastfeeding children age 6-23 months receiving an adequate diet16, 17 (%)', 'Total children age 6-23 months receiving an adequate diet16, 17  (%)', 'Children under 5 years who are stunted (height-for-age)18 (%)', 'Children under 5 years who are wasted (weight-for-height)18 (%)', 'Children under 5 years who are severely wasted (weight-for-height)19 (%)', 'Children under 5 years who are underweight (weight-for-age)18 (%)', 'Children under 5 years who are overweight (weight-for-height)20 (%)', 'Women (age 15-49 years) whose Body Mass Index (BMI) is below normal (BMI <18.5 kg/m2)21 (%)', 'Women (age 15-49 years) who are overweight or obese (BMI ≥25.0 kg/m2)21 (%)', 'Women (age 15-49 years) who have high risk waist-to-hip ratio (≥0.85) (%)', 'Children age 6-59 months who are anaemic (<11.0 g/dl)22 (%)', 'Non-pregnant women age 15-49 years who are anaemic (<12.0 g/dl)22 (%)', 'Pregnant women age 15-49 years who are anaemic (<11.0 g/dl)22 (%)', 'anaemia_rate', 'Women  age 15 years and above with high (141-160 mg/dl) Blood sugar level23 (%)', 'Women age 15 years and above wih very high (>160 mg/dl) Blood sugar level23 (%)', 'Women age 15 years and above wih high or very high (>140 mg/dl) Blood sugar level or taking medicine to control blood sugar level23 (%)', 'Men age 15 years and above wih high (141-160 mg/dl) Blood sugar level23 (%)', 'Men (age 15 years and above wih  very high (>160 mg/dl) Blood sugar level23 (%)', 'Men age 15 years and above wih high or very high (>140 mg/dl) Blood sugar level  or taking medicine to control blood sugar level23 (%)', 'Women age 15 years and above wih Mildly elevated blood pressure (Systolic 140-159 mm of Hg and/or Diastolic 90-99 mm of Hg) (%)', 'Women age 15 years and above wih Moderately or severely elevated blood pressure (Systolic ≥160 mm of Hg and/or Diastolic ≥100 mm of Hg) (%)', 'Women age 15 years and above wih Elevated blood pressure (Systolic ≥140 mm of Hg and/or Diastolic ≥90 mm of Hg) or taking medicine to control blood pressure (%)', 'Men age 15 years and above wih Mildly elevated blood pressure (Systolic 140-159 mm of Hg and/or Diastolic 90-99 mm of Hg) (%)', 'Men age 15 years and above wih Moderately or severely elevated blood pressure (Systolic ≥160 mm of Hg and/or Diastolic ≥100 mm of Hg) (%)', 'Men age 15 years and above wih Elevated blood pressure (Systolic ≥140 mm of Hg and/or Diastolic ≥90 mm of Hg) or taking medicine to control blood pressure (%)', 'Women (age 30-49 years) Ever undergone a screening test for cervical cancer (%)', 'Women (age 30-49 years) Ever undergone a breast examination for breast cancer (%)', 'Women (age 30-49 years) Ever undergone an oral cavity examination for oral cancer (%)', 'Women age 15 years and above who use any kind of tobacco (%)', 'Men age 15 years and above who use any kind of tobacco (%)', 'Women age 15 years and above who consume alcohol (%)', 'Men age 15 years and above who consume alcohol (%)']\n"
     ]
    }
   ],
   "source": [
    "print(df.columns.tolist())\n"
   ]
  },
  {
   "cell_type": "code",
   "execution_count": 128,
   "metadata": {
    "colab": {
     "base_uri": "https://localhost:8080/"
    },
    "id": "0QbIufHvnxGR",
    "outputId": "fdfc3bcb-5074-4dd6-e0ec-058842089774"
   },
   "outputs": [
    {
     "name": "stdout",
     "output_type": "stream",
     "text": [
      "anaemia_rate                                                             1.000000\n",
      "Non-pregnant women age 15-49 years who are anaemic (<12.0 g/dl)22 (%)    0.999306\n",
      "Pregnant women age 15-49 years who are anaemic (<11.0 g/dl)22 (%)        0.687800\n",
      "Name: anaemia_rate, dtype: float64\n"
     ]
    }
   ],
   "source": [
    "# Check correlation of anaemia-related columns with the target\n",
    "anaemia_cols = [\n",
    "    'Non-pregnant women age 15-49 years who are anaemic (<12.0 g/dl)22 (%)',\n",
    "    'Pregnant women age 15-49 years who are anaemic (<11.0 g/dl)22 (%)',\n",
    "\n",
    "]\n",
    "\n",
    "# Compute correlation with target\n",
    "correlation_with_target = df[anaemia_cols + ['anaemia_rate']].corr()\n",
    "\n",
    "print(correlation_with_target['anaemia_rate'].sort_values(ascending=False))\n"
   ]
  },
  {
   "cell_type": "code",
   "execution_count": 130,
   "metadata": {
    "id": "ZGHAmXIPnytl"
   },
   "outputs": [],
   "source": [
    "# Feature Selection using Random Forest Importance\n",
    "X = df.drop(columns=['District Names', 'State/UT', 'anaemia_rate','Non-pregnant women age 15-49 years who are anaemic (<12.0 g/dl)22 (%)','Pregnant women age 15-49 years who are anaemic (<11.0 g/dl)22 (%)', 'All women age 15-19 years who are anaemic22 (%)'], errors='ignore')\n",
    "y = df['anaemia_rate']\n"
   ]
  },
  {
   "cell_type": "code",
   "execution_count": 132,
   "metadata": {
    "id": "G6ZJ2unxn1uU"
   },
   "outputs": [],
   "source": [
    "# Split data into training and testing sets\n",
    "X_train, X_temp, y_train, y_temp = train_test_split(X, y, test_size=0.3, random_state=42)"
   ]
  },
  {
   "cell_type": "code",
   "execution_count": 134,
   "metadata": {
    "colab": {
     "base_uri": "https://localhost:8080/",
     "height": 603
    },
    "id": "wCOKWHWgn_l6",
    "outputId": "7d181f6c-4797-4fda-d4d8-9dc6ab9ebd51"
   },
   "outputs": [
    {
     "data": {
      "text/html": [
       "<div>\n",
       "<style scoped>\n",
       "    .dataframe tbody tr th:only-of-type {\n",
       "        vertical-align: middle;\n",
       "    }\n",
       "\n",
       "    .dataframe tbody tr th {\n",
       "        vertical-align: top;\n",
       "    }\n",
       "\n",
       "    .dataframe thead th {\n",
       "        text-align: right;\n",
       "    }\n",
       "</style>\n",
       "<table border=\"1\" class=\"dataframe\">\n",
       "  <thead>\n",
       "    <tr style=\"text-align: right;\">\n",
       "      <th></th>\n",
       "      <th>District Names</th>\n",
       "      <th>State/UT</th>\n",
       "      <th>Number of Households surveyed</th>\n",
       "      <th>Number of Women age 15-49 years interviewed</th>\n",
       "      <th>Number of Men age 15-54 years interviewed</th>\n",
       "      <th>Female population age 6 years and above who ever attended school (%)</th>\n",
       "      <th>Population below age 15 years (%)</th>\n",
       "      <th>Sex ratio of the total population (females per 1,000 males)</th>\n",
       "      <th>Sex ratio at birth for children born in the last five years (females per 1,000 males)</th>\n",
       "      <th>Children under age 5 years whose birth was registered with the civil authority (%)</th>\n",
       "      <th>...</th>\n",
       "      <th>Men age 15 years and above wih Mildly elevated blood pressure (Systolic 140-159 mm of Hg and/or Diastolic 90-99 mm of Hg) (%)</th>\n",
       "      <th>Men age 15 years and above wih Moderately or severely elevated blood pressure (Systolic ≥160 mm of Hg and/or Diastolic ≥100 mm of Hg) (%)</th>\n",
       "      <th>Men age 15 years and above wih Elevated blood pressure (Systolic ≥140 mm of Hg and/or Diastolic ≥90 mm of Hg) or taking medicine to control blood pressure (%)</th>\n",
       "      <th>Women (age 30-49 years) Ever undergone a screening test for cervical cancer (%)</th>\n",
       "      <th>Women (age 30-49 years) Ever undergone a breast examination for breast cancer (%)</th>\n",
       "      <th>Women (age 30-49 years) Ever undergone an oral cavity examination for oral cancer (%)</th>\n",
       "      <th>Women age 15 years and above who use any kind of tobacco (%)</th>\n",
       "      <th>Men age 15 years and above who use any kind of tobacco (%)</th>\n",
       "      <th>Women age 15 years and above who consume alcohol (%)</th>\n",
       "      <th>Men age 15 years and above who consume alcohol (%)</th>\n",
       "    </tr>\n",
       "  </thead>\n",
       "  <tbody>\n",
       "    <tr>\n",
       "      <th>0</th>\n",
       "      <td>NaN</td>\n",
       "      <td>NaN</td>\n",
       "      <td>0.861004</td>\n",
       "      <td>0.390036</td>\n",
       "      <td>0.482143</td>\n",
       "      <td>0.605948</td>\n",
       "      <td>0.202312</td>\n",
       "      <td>0.377816</td>\n",
       "      <td>0.796795</td>\n",
       "      <td>0.958678</td>\n",
       "      <td>...</td>\n",
       "      <td>1.000000</td>\n",
       "      <td>0.550802</td>\n",
       "      <td>0.934343</td>\n",
       "      <td>0.577586</td>\n",
       "      <td>0.904110</td>\n",
       "      <td>0.341772</td>\n",
       "      <td>0.899291</td>\n",
       "      <td>0.948509</td>\n",
       "      <td>0.691589</td>\n",
       "      <td>0.942899</td>\n",
       "    </tr>\n",
       "    <tr>\n",
       "      <th>1</th>\n",
       "      <td>NaN</td>\n",
       "      <td>NaN</td>\n",
       "      <td>0.850708</td>\n",
       "      <td>0.407829</td>\n",
       "      <td>0.406250</td>\n",
       "      <td>0.693309</td>\n",
       "      <td>0.109827</td>\n",
       "      <td>0.337955</td>\n",
       "      <td>0.766570</td>\n",
       "      <td>1.000000</td>\n",
       "      <td>...</td>\n",
       "      <td>0.626812</td>\n",
       "      <td>0.278075</td>\n",
       "      <td>0.560606</td>\n",
       "      <td>0.073276</td>\n",
       "      <td>0.020548</td>\n",
       "      <td>1.000000</td>\n",
       "      <td>0.662411</td>\n",
       "      <td>0.863144</td>\n",
       "      <td>0.119159</td>\n",
       "      <td>0.661786</td>\n",
       "    </tr>\n",
       "    <tr>\n",
       "      <th>2</th>\n",
       "      <td>NaN</td>\n",
       "      <td>NaN</td>\n",
       "      <td>0.842986</td>\n",
       "      <td>0.446975</td>\n",
       "      <td>0.522321</td>\n",
       "      <td>0.730483</td>\n",
       "      <td>0.144509</td>\n",
       "      <td>0.367418</td>\n",
       "      <td>0.799709</td>\n",
       "      <td>0.927686</td>\n",
       "      <td>...</td>\n",
       "      <td>0.456522</td>\n",
       "      <td>0.283422</td>\n",
       "      <td>0.426768</td>\n",
       "      <td>0.056034</td>\n",
       "      <td>0.047945</td>\n",
       "      <td>0.506329</td>\n",
       "      <td>0.276596</td>\n",
       "      <td>0.596206</td>\n",
       "      <td>0.039720</td>\n",
       "      <td>0.478770</td>\n",
       "    </tr>\n",
       "    <tr>\n",
       "      <th>3</th>\n",
       "      <td>NaN</td>\n",
       "      <td>NaN</td>\n",
       "      <td>0.850708</td>\n",
       "      <td>0.401423</td>\n",
       "      <td>0.370536</td>\n",
       "      <td>0.271375</td>\n",
       "      <td>0.135838</td>\n",
       "      <td>0.667244</td>\n",
       "      <td>0.882739</td>\n",
       "      <td>0.896694</td>\n",
       "      <td>...</td>\n",
       "      <td>0.329710</td>\n",
       "      <td>0.251337</td>\n",
       "      <td>0.325758</td>\n",
       "      <td>0.043103</td>\n",
       "      <td>0.013699</td>\n",
       "      <td>0.240506</td>\n",
       "      <td>0.099291</td>\n",
       "      <td>0.196477</td>\n",
       "      <td>0.014019</td>\n",
       "      <td>0.412884</td>\n",
       "    </tr>\n",
       "    <tr>\n",
       "      <th>4</th>\n",
       "      <td>NaN</td>\n",
       "      <td>NaN</td>\n",
       "      <td>0.886744</td>\n",
       "      <td>0.453381</td>\n",
       "      <td>0.522321</td>\n",
       "      <td>0.197026</td>\n",
       "      <td>0.132948</td>\n",
       "      <td>0.622184</td>\n",
       "      <td>0.786235</td>\n",
       "      <td>0.904959</td>\n",
       "      <td>...</td>\n",
       "      <td>0.344203</td>\n",
       "      <td>0.299465</td>\n",
       "      <td>0.381313</td>\n",
       "      <td>0.211207</td>\n",
       "      <td>0.041096</td>\n",
       "      <td>0.462025</td>\n",
       "      <td>0.160284</td>\n",
       "      <td>0.199187</td>\n",
       "      <td>0.018692</td>\n",
       "      <td>0.471449</td>\n",
       "    </tr>\n",
       "  </tbody>\n",
       "</table>\n",
       "<p>5 rows × 108 columns</p>\n",
       "</div>"
      ],
      "text/plain": [
       "   District Names  State/UT  Number of Households surveyed  \\\n",
       "0             NaN       NaN                       0.861004   \n",
       "1             NaN       NaN                       0.850708   \n",
       "2             NaN       NaN                       0.842986   \n",
       "3             NaN       NaN                       0.850708   \n",
       "4             NaN       NaN                       0.886744   \n",
       "\n",
       "   Number of Women age 15-49 years interviewed  \\\n",
       "0                                     0.390036   \n",
       "1                                     0.407829   \n",
       "2                                     0.446975   \n",
       "3                                     0.401423   \n",
       "4                                     0.453381   \n",
       "\n",
       "   Number of Men age 15-54 years interviewed  \\\n",
       "0                                   0.482143   \n",
       "1                                   0.406250   \n",
       "2                                   0.522321   \n",
       "3                                   0.370536   \n",
       "4                                   0.522321   \n",
       "\n",
       "   Female population age 6 years and above who ever attended school (%)  \\\n",
       "0                                           0.605948                      \n",
       "1                                           0.693309                      \n",
       "2                                           0.730483                      \n",
       "3                                           0.271375                      \n",
       "4                                           0.197026                      \n",
       "\n",
       "   Population below age 15 years (%)  \\\n",
       "0                           0.202312   \n",
       "1                           0.109827   \n",
       "2                           0.144509   \n",
       "3                           0.135838   \n",
       "4                           0.132948   \n",
       "\n",
       "    Sex ratio of the total population (females per 1,000 males)  \\\n",
       "0                                           0.377816              \n",
       "1                                           0.337955              \n",
       "2                                           0.367418              \n",
       "3                                           0.667244              \n",
       "4                                           0.622184              \n",
       "\n",
       "   Sex ratio at birth for children born in the last five years (females per 1,000 males)  \\\n",
       "0                                           0.796795                                       \n",
       "1                                           0.766570                                       \n",
       "2                                           0.799709                                       \n",
       "3                                           0.882739                                       \n",
       "4                                           0.786235                                       \n",
       "\n",
       "   Children under age 5 years whose birth was registered with the civil authority (%)  \\\n",
       "0                                           0.958678                                    \n",
       "1                                           1.000000                                    \n",
       "2                                           0.927686                                    \n",
       "3                                           0.896694                                    \n",
       "4                                           0.904959                                    \n",
       "\n",
       "   ...  \\\n",
       "0  ...   \n",
       "1  ...   \n",
       "2  ...   \n",
       "3  ...   \n",
       "4  ...   \n",
       "\n",
       "   Men age 15 years and above wih Mildly elevated blood pressure (Systolic 140-159 mm of Hg and/or Diastolic 90-99 mm of Hg) (%)  \\\n",
       "0                                           1.000000                                                                               \n",
       "1                                           0.626812                                                                               \n",
       "2                                           0.456522                                                                               \n",
       "3                                           0.329710                                                                               \n",
       "4                                           0.344203                                                                               \n",
       "\n",
       "   Men age 15 years and above wih Moderately or severely elevated blood pressure (Systolic ≥160 mm of Hg and/or Diastolic ≥100 mm of Hg) (%)  \\\n",
       "0                                           0.550802                                                                                           \n",
       "1                                           0.278075                                                                                           \n",
       "2                                           0.283422                                                                                           \n",
       "3                                           0.251337                                                                                           \n",
       "4                                           0.299465                                                                                           \n",
       "\n",
       "   Men age 15 years and above wih Elevated blood pressure (Systolic ≥140 mm of Hg and/or Diastolic ≥90 mm of Hg) or taking medicine to control blood pressure (%)  \\\n",
       "0                                           0.934343                                                                                                                \n",
       "1                                           0.560606                                                                                                                \n",
       "2                                           0.426768                                                                                                                \n",
       "3                                           0.325758                                                                                                                \n",
       "4                                           0.381313                                                                                                                \n",
       "\n",
       "   Women (age 30-49 years) Ever undergone a screening test for cervical cancer (%)  \\\n",
       "0                                           0.577586                                 \n",
       "1                                           0.073276                                 \n",
       "2                                           0.056034                                 \n",
       "3                                           0.043103                                 \n",
       "4                                           0.211207                                 \n",
       "\n",
       "   Women (age 30-49 years) Ever undergone a breast examination for breast cancer (%)  \\\n",
       "0                                           0.904110                                   \n",
       "1                                           0.020548                                   \n",
       "2                                           0.047945                                   \n",
       "3                                           0.013699                                   \n",
       "4                                           0.041096                                   \n",
       "\n",
       "   Women (age 30-49 years) Ever undergone an oral cavity examination for oral cancer (%)  \\\n",
       "0                                           0.341772                                       \n",
       "1                                           1.000000                                       \n",
       "2                                           0.506329                                       \n",
       "3                                           0.240506                                       \n",
       "4                                           0.462025                                       \n",
       "\n",
       "   Women age 15 years and above who use any kind of tobacco (%)  \\\n",
       "0                                           0.899291              \n",
       "1                                           0.662411              \n",
       "2                                           0.276596              \n",
       "3                                           0.099291              \n",
       "4                                           0.160284              \n",
       "\n",
       "   Men age 15 years and above who use any kind of tobacco (%)  \\\n",
       "0                                           0.948509            \n",
       "1                                           0.863144            \n",
       "2                                           0.596206            \n",
       "3                                           0.196477            \n",
       "4                                           0.199187            \n",
       "\n",
       "   Women age 15 years and above who consume alcohol (%)  \\\n",
       "0                                           0.691589      \n",
       "1                                           0.119159      \n",
       "2                                           0.039720      \n",
       "3                                           0.014019      \n",
       "4                                           0.018692      \n",
       "\n",
       "   Men age 15 years and above who consume alcohol (%)  \n",
       "0                                           0.942899   \n",
       "1                                           0.661786   \n",
       "2                                           0.478770   \n",
       "3                                           0.412884   \n",
       "4                                           0.471449   \n",
       "\n",
       "[5 rows x 108 columns]"
      ]
     },
     "execution_count": 134,
     "metadata": {},
     "output_type": "execute_result"
    }
   ],
   "source": [
    "df.head()"
   ]
  },
  {
   "cell_type": "code",
   "execution_count": 136,
   "metadata": {
    "id": "fe_buPEMoA6_"
   },
   "outputs": [],
   "source": [
    "from sklearn.feature_selection import SelectFromModel"
   ]
  },
  {
   "cell_type": "code",
   "execution_count": 138,
   "metadata": {
    "colab": {
     "base_uri": "https://localhost:8080/"
    },
    "id": "ltD8E2fMoDBi",
    "outputId": "775b1db5-1956-4e1e-f82b-9fb30adc6a4b"
   },
   "outputs": [
    {
     "name": "stdout",
     "output_type": "stream",
     "text": [
      "Total Selected Features: 52\n",
      "Selected Features: ['Number of Households surveyed', 'Number of Women age 15-49 years interviewed', 'Number of Men age 15-54 years interviewed', ' Sex ratio of the total population (females per 1,000 males)', 'Population living in households that use an improved sanitation facility2 (%)', 'Households using clean fuel for cooking3 (%)', 'Households using iodized salt (%)', 'Households with any usual member covered under a health insurance/financing scheme (%)', 'Children age 5 years who attended pre-primary school during the school year 2019-20 (%)', 'Women age 20-24 years married before age 18 years (%)', 'Births in the 5 years preceding the survey that are third or higher order (%)', 'Women age 15-19 years who were already mothers or pregnant at the time of the survey (%)', 'Current Use of Family Planning Methods (Currently Married Women Age 15-49  years) - Any modern method6 (%)', 'Current Use of Family Planning Methods (Currently Married Women Age 15-49  years) - Female sterilization (%)', 'Current Use of Family Planning Methods (Currently Married Women Age 15-49  years) - Pill (%)', 'Current Use of Family Planning Methods (Currently Married Women Age 15-49  years) - Condom (%)', 'Current Use of Family Planning Methods (Currently Married Women Age 15-49  years) - Injectables (%)', 'Total Unmet need for Family Planning (Currently Married Women Age 15-49  years)7 (%)', 'Health worker ever talked to female non-users about family planning (%)', 'Current users ever told about side effects of current method of family planning8 (%)', 'Mothers who had at least 4 antenatal care visits  (for last birth in the 5 years before the survey) (%)', 'Mothers whose last birth was protected against neonatal tetanus (for last birth in the 5 years before the survey)9 (%)', 'Average out-of-pocket expenditure per delivery in a public health facility (for last birth in the 5 years before the survey) (Rs.)', 'Children born at home who were taken to a health facility for a check-up within 24 hours of birth (for last birth in the 5 years before the survey} (%)', 'Children who received postnatal care from a doctor/nurse/LHV/ANM/midwife/ other health personnel within 2 days of delivery (for last birth in the 5 years before the survey) (%)', 'Institutional births (in the 5 years before the survey) (%)', 'Children age 12-23 months fully vaccinated based on information from vaccination card only12 (%)', 'Children age 12-23 months who have received 3 doses of polio vaccine13 (%)', 'Children age 12-23 months who have received 3 doses of rotavirus vaccine14 (%)', 'Children age 9-35 months who received a vitamin A dose in the last 6 months (%)', 'Prevalence of diarrhoea in the 2 weeks preceding the survey (Children under age 5 years) (%) ', 'Children with diarrhoea in the 2 weeks preceding the survey who received oral rehydration salts (ORS) (Children under age 5 years) (%) ', 'Children with fever or symptoms of ARI in the 2 weeks preceding the survey taken to a health facility or health provider (Children under age 5 years) (%)  ', 'Breastfeeding children age 6-23 months receiving an adequate diet16, 17  (%)', 'Children under 5 years who are underweight (weight-for-age)18 (%)', 'Children under 5 years who are overweight (weight-for-height)20 (%)', 'Women (age 15-49 years) whose Body Mass Index (BMI) is below normal (BMI <18.5 kg/m2)21 (%)', 'Women (age 15-49 years) who are overweight or obese (BMI ≥25.0 kg/m2)21 (%)', 'Women (age 15-49 years) who have high risk waist-to-hip ratio (≥0.85) (%)', 'Children age 6-59 months who are anaemic (<11.0 g/dl)22 (%)', 'Women  age 15 years and above with high (141-160 mg/dl) Blood sugar level23 (%)', 'Men age 15 years and above wih high (141-160 mg/dl) Blood sugar level23 (%)', 'Men age 15 years and above wih high or very high (>140 mg/dl) Blood sugar level  or taking medicine to control blood sugar level23 (%)', 'Women age 15 years and above wih Mildly elevated blood pressure (Systolic 140-159 mm of Hg and/or Diastolic 90-99 mm of Hg) (%)', 'Women age 15 years and above wih Moderately or severely elevated blood pressure (Systolic ≥160 mm of Hg and/or Diastolic ≥100 mm of Hg) (%)', 'Men age 15 years and above wih Mildly elevated blood pressure (Systolic 140-159 mm of Hg and/or Diastolic 90-99 mm of Hg) (%)', 'Men age 15 years and above wih Moderately or severely elevated blood pressure (Systolic ≥160 mm of Hg and/or Diastolic ≥100 mm of Hg) (%)', 'Men age 15 years and above wih Elevated blood pressure (Systolic ≥140 mm of Hg and/or Diastolic ≥90 mm of Hg) or taking medicine to control blood pressure (%)', 'Women age 15 years and above who use any kind of tobacco (%)', 'Men age 15 years and above who use any kind of tobacco (%)', 'Women age 15 years and above who consume alcohol (%)', 'Men age 15 years and above who consume alcohol (%)']\n"
     ]
    }
   ],
   "source": [
    "import numpy as np\n",
    "import pandas as pd\n",
    "from sklearn.ensemble import RandomForestRegressor\n",
    "from sklearn.feature_selection import SelectFromModel\n",
    "\n",
    "# Fit a RandomForest model for feature selection\n",
    "feature_selector = RandomForestRegressor(n_estimators=100, random_state=42)\n",
    "feature_selector.fit(X_train, y_train)\n",
    "\n",
    "# Get feature importances\n",
    "importances = feature_selector.feature_importances_\n",
    "\n",
    "# Set a threshold\n",
    "threshold = np.percentile(importances, 50)\n",
    "\n",
    "# Select features with importance above the threshold\n",
    "selector = SelectFromModel(feature_selector, threshold=threshold, prefit=True)\n",
    "X_train_selected = selector.transform(X_train)\n",
    "X_test_selected = selector.transform(X_temp)\n",
    "\n",
    "# Get selected feature names and their importance values\n",
    "selected_features = X_train.columns[selector.get_support()]\n",
    "selected_importances = importances[selector.get_support()]\n",
    "\n",
    "# Create a DataFrame for better visualization\n",
    "selected_features_df = pd.DataFrame({\n",
    "    'Feature': selected_features,\n",
    "    'Importance': selected_importances\n",
    "}).sort_values(by='Importance', ascending=False)\n",
    "\n",
    "\n",
    "print(f\"Total Selected Features: {len(selected_features)}\")\n",
    "print(\"Selected Features:\", selected_features.tolist())"
   ]
  },
  {
   "cell_type": "code",
   "execution_count": 139,
   "metadata": {
    "id": "DRXRMZ8hoEQK"
   },
   "outputs": [],
   "source": [
    "X_train.columns = X_train.columns.astype(str)\n",
    "X_temp.columns = X_temp.columns.astype(str)"
   ]
  },
  {
   "cell_type": "code",
   "execution_count": 140,
   "metadata": {
    "id": "lL6M0tMVoGmO"
   },
   "outputs": [],
   "source": [
    "X_train.columns = X_train.columns.str.replace(r'[\\[\\]<>]', '', regex=True)\n",
    "X_temp.columns = X_temp.columns.str.replace(r'[\\[\\]<>]', '', regex=True)"
   ]
  },
  {
   "cell_type": "code",
   "execution_count": 141,
   "metadata": {
    "colab": {
     "base_uri": "https://localhost:8080/"
    },
    "id": "SamnCeOHoIko",
    "outputId": "3ec3ba9d-9fe2-4e8f-d585-6d999f101c96"
   },
   "outputs": [
    {
     "name": "stdout",
     "output_type": "stream",
     "text": [
      "Index(['Number of Households surveyed',\n",
      "       'Number of Women age 15-49 years interviewed',\n",
      "       'Number of Men age 15-54 years interviewed',\n",
      "       'Female population age 6 years and above who ever attended school (%)',\n",
      "       'Population below age 15 years (%)',\n",
      "       ' Sex ratio of the total population (females per 1,000 males)',\n",
      "       'Sex ratio at birth for children born in the last five years (females per 1,000 males)',\n",
      "       'Children under age 5 years whose birth was registered with the civil authority (%)',\n",
      "       'Deaths in the last 3 years registered with the civil authority (%)',\n",
      "       'Population living in households with electricity (%)',\n",
      "       ...\n",
      "       'Men age 15 years and above wih Mildly elevated blood pressure (Systolic 140-159 mm of Hg and/or Diastolic 90-99 mm of Hg) (%)',\n",
      "       'Men age 15 years and above wih Moderately or severely elevated blood pressure (Systolic ≥160 mm of Hg and/or Diastolic ≥100 mm of Hg) (%)',\n",
      "       'Men age 15 years and above wih Elevated blood pressure (Systolic ≥140 mm of Hg and/or Diastolic ≥90 mm of Hg) or taking medicine to control blood pressure (%)',\n",
      "       'Women (age 30-49 years) Ever undergone a screening test for cervical cancer (%)',\n",
      "       'Women (age 30-49 years) Ever undergone a breast examination for breast cancer (%)',\n",
      "       'Women (age 30-49 years) Ever undergone an oral cavity examination for oral cancer (%)',\n",
      "       'Women age 15 years and above who use any kind of tobacco (%)',\n",
      "       'Men age 15 years and above who use any kind of tobacco (%)',\n",
      "       'Women age 15 years and above who consume alcohol (%)',\n",
      "       'Men age 15 years and above who consume alcohol (%)'],\n",
      "      dtype='object', length=103)\n"
     ]
    }
   ],
   "source": [
    "print(X_train.columns)\n"
   ]
  },
  {
   "cell_type": "code",
   "execution_count": 142,
   "metadata": {
    "colab": {
     "base_uri": "https://localhost:8080/"
    },
    "id": "5zWV4o7iofDK",
    "outputId": "a9419c76-697a-4713-e1d6-11a95ddd1365"
   },
   "outputs": [
    {
     "name": "stdout",
     "output_type": "stream",
     "text": [
      "Defaulting to user installation because normal site-packages is not writeable\n",
      "Requirement already satisfied: optuna in c:\\users\\asus\\appdata\\roaming\\python\\python312\\site-packages (4.2.1)\n",
      "Requirement already satisfied: alembic>=1.5.0 in c:\\programdata\\anaconda3\\lib\\site-packages (from optuna) (1.13.3)\n",
      "Requirement already satisfied: colorlog in c:\\users\\asus\\appdata\\roaming\\python\\python312\\site-packages (from optuna) (6.9.0)\n",
      "Requirement already satisfied: numpy in c:\\users\\asus\\appdata\\roaming\\python\\python312\\site-packages (from optuna) (1.26.4)\n",
      "Requirement already satisfied: packaging>=20.0 in c:\\users\\asus\\appdata\\roaming\\python\\python312\\site-packages (from optuna) (24.2)\n",
      "Requirement already satisfied: sqlalchemy>=1.4.2 in c:\\programdata\\anaconda3\\lib\\site-packages (from optuna) (2.0.34)\n",
      "Requirement already satisfied: tqdm in c:\\programdata\\anaconda3\\lib\\site-packages (from optuna) (4.66.5)\n",
      "Requirement already satisfied: PyYAML in c:\\programdata\\anaconda3\\lib\\site-packages (from optuna) (6.0.1)\n",
      "Requirement already satisfied: Mako in c:\\programdata\\anaconda3\\lib\\site-packages (from alembic>=1.5.0->optuna) (1.2.3)\n",
      "Requirement already satisfied: typing-extensions>=4 in c:\\programdata\\anaconda3\\lib\\site-packages (from alembic>=1.5.0->optuna) (4.11.0)\n",
      "Requirement already satisfied: greenlet!=0.4.17 in c:\\programdata\\anaconda3\\lib\\site-packages (from sqlalchemy>=1.4.2->optuna) (3.0.1)\n",
      "Requirement already satisfied: colorama in c:\\programdata\\anaconda3\\lib\\site-packages (from colorlog->optuna) (0.4.6)\n",
      "Requirement already satisfied: MarkupSafe>=0.9.2 in c:\\programdata\\anaconda3\\lib\\site-packages (from Mako->alembic>=1.5.0->optuna) (2.1.3)\n"
     ]
    }
   ],
   "source": [
    "!pip install optuna"
   ]
  },
  {
   "cell_type": "code",
   "execution_count": 143,
   "metadata": {
    "colab": {
     "base_uri": "https://localhost:8080/"
    },
    "id": "Dw5yLBWAs3xs",
    "outputId": "500a9933-7564-43ce-e5d5-953b659a5e84"
   },
   "outputs": [
    {
     "name": "stdout",
     "output_type": "stream",
     "text": [
      "Defaulting to user installation because normal site-packages is not writeable\n",
      "Requirement already satisfied: xgboost in c:\\users\\asus\\appdata\\roaming\\python\\python312\\site-packages (2.1.3)\n",
      "Requirement already satisfied: numpy in c:\\users\\asus\\appdata\\roaming\\python\\python312\\site-packages (from xgboost) (1.26.4)\n",
      "Requirement already satisfied: scipy in c:\\users\\asus\\appdata\\roaming\\python\\python312\\site-packages (from xgboost) (1.15.2)\n"
     ]
    }
   ],
   "source": [
    "!pip install xgboost"
   ]
  },
  {
   "cell_type": "code",
   "execution_count": 151,
   "metadata": {},
   "outputs": [],
   "source": [
    "# Split data into train, validation, and test sets\n",
    "X_val, X_test, y_val, y_test = train_test_split(X_temp, y_temp, test_size=0.4, random_state=42)"
   ]
  },
  {
   "cell_type": "code",
   "execution_count": 153,
   "metadata": {
    "colab": {
     "base_uri": "https://localhost:8080/"
    },
    "id": "XXMhAwbAoJ8_",
    "outputId": "78ed7e8d-87bc-49ac-ee26-36100de0e155"
   },
   "outputs": [
    {
     "name": "stderr",
     "output_type": "stream",
     "text": [
      "[I 2025-04-05 01:52:06,504] A new study created in memory with name: no-name-e2bb58fe-bbd2-4676-9420-b009c92c155a\n",
      "[I 2025-04-05 01:52:06,539] Trial 0 finished with value: 0.2788499580948466 and parameters: {'max_depth': 28, 'min_samples_split': 9, 'min_samples_leaf': 8}. Best is trial 0 with value: 0.2788499580948466.\n",
      "[I 2025-04-05 01:52:06,580] Trial 1 finished with value: 0.30456255707744273 and parameters: {'max_depth': 12, 'min_samples_split': 11, 'min_samples_leaf': 4}. Best is trial 1 with value: 0.30456255707744273.\n",
      "[I 2025-04-05 01:52:06,610] Trial 2 finished with value: 0.3453817664008667 and parameters: {'max_depth': 20, 'min_samples_split': 3, 'min_samples_leaf': 10}. Best is trial 2 with value: 0.3453817664008667.\n",
      "[I 2025-04-05 01:52:06,645] Trial 3 finished with value: 0.3108415382860361 and parameters: {'max_depth': 17, 'min_samples_split': 13, 'min_samples_leaf': 6}. Best is trial 2 with value: 0.3453817664008667.\n",
      "[I 2025-04-05 01:52:06,677] Trial 4 finished with value: 0.2788499580948466 and parameters: {'max_depth': 12, 'min_samples_split': 2, 'min_samples_leaf': 8}. Best is trial 2 with value: 0.3453817664008667.\n",
      "[I 2025-04-05 01:52:06,722] Trial 5 finished with value: 0.3216102435615289 and parameters: {'max_depth': 45, 'min_samples_split': 14, 'min_samples_leaf': 4}. Best is trial 2 with value: 0.3453817664008667.\n"
     ]
    },
    {
     "name": "stdout",
     "output_type": "stream",
     "text": [
      "Skipping hyperparameter tuning for LinearRegression\n"
     ]
    },
    {
     "name": "stderr",
     "output_type": "stream",
     "text": [
      "[I 2025-04-05 01:52:06,758] Trial 6 finished with value: 0.34407256577162015 and parameters: {'max_depth': 34, 'min_samples_split': 20, 'min_samples_leaf': 5}. Best is trial 2 with value: 0.3453817664008667.\n",
      "[I 2025-04-05 01:52:06,797] Trial 7 finished with value: 0.3349068190028801 and parameters: {'max_depth': 34, 'min_samples_split': 11, 'min_samples_leaf': 5}. Best is trial 2 with value: 0.3453817664008667.\n",
      "[I 2025-04-05 01:52:06,830] Trial 8 finished with value: 0.2419340809478936 and parameters: {'max_depth': 29, 'min_samples_split': 3, 'min_samples_leaf': 9}. Best is trial 2 with value: 0.3453817664008667.\n",
      "[I 2025-04-05 01:52:06,861] Trial 9 finished with value: 0.28001010550867744 and parameters: {'max_depth': 36, 'min_samples_split': 9, 'min_samples_leaf': 7}. Best is trial 2 with value: 0.3453817664008667.\n",
      "[I 2025-04-05 01:52:06,914] Trial 10 finished with value: 0.31954309862652486 and parameters: {'max_depth': 5, 'min_samples_split': 5, 'min_samples_leaf': 2}. Best is trial 2 with value: 0.3453817664008667.\n",
      "[I 2025-04-05 01:52:06,956] Trial 11 finished with value: 0.3453817664008667 and parameters: {'max_depth': 22, 'min_samples_split': 20, 'min_samples_leaf': 10}. Best is trial 2 with value: 0.3453817664008667.\n",
      "[I 2025-04-05 01:52:06,995] Trial 12 finished with value: 0.34538176640086693 and parameters: {'max_depth': 21, 'min_samples_split': 20, 'min_samples_leaf': 10}. Best is trial 12 with value: 0.34538176640086693.\n",
      "[I 2025-04-05 01:52:07,058] Trial 13 finished with value: 0.3453817664008667 and parameters: {'max_depth': 20, 'min_samples_split': 17, 'min_samples_leaf': 10}. Best is trial 12 with value: 0.34538176640086693.\n",
      "[I 2025-04-05 01:52:07,129] Trial 14 finished with value: 0.3453817664008667 and parameters: {'max_depth': 21, 'min_samples_split': 6, 'min_samples_leaf': 10}. Best is trial 12 with value: 0.34538176640086693.\n",
      "[I 2025-04-05 01:52:07,197] Trial 15 finished with value: 0.24614546469682508 and parameters: {'max_depth': 14, 'min_samples_split': 16, 'min_samples_leaf': 1}. Best is trial 12 with value: 0.34538176640086693.\n",
      "[I 2025-04-05 01:52:07,233] Trial 16 finished with value: 0.3334265074268252 and parameters: {'max_depth': 5, 'min_samples_split': 6, 'min_samples_leaf': 8}. Best is trial 12 with value: 0.34538176640086693.\n",
      "[I 2025-04-05 01:52:07,282] Trial 17 finished with value: 0.24193408094789393 and parameters: {'max_depth': 46, 'min_samples_split': 8, 'min_samples_leaf': 9}. Best is trial 12 with value: 0.34538176640086693.\n",
      "[I 2025-04-05 01:52:07,334] Trial 18 finished with value: 0.29156925540778356 and parameters: {'max_depth': 25, 'min_samples_split': 16, 'min_samples_leaf': 7}. Best is trial 12 with value: 0.34538176640086693.\n",
      "[I 2025-04-05 01:52:07,384] Trial 19 finished with value: 0.24193408094789393 and parameters: {'max_depth': 40, 'min_samples_split': 18, 'min_samples_leaf': 9}. Best is trial 12 with value: 0.34538176640086693.\n",
      "[I 2025-04-05 01:52:07,385] A new study created in memory with name: no-name-28ef3dcf-1bc1-49a6-b286-f41deb3fe9f7\n"
     ]
    },
    {
     "name": "stdout",
     "output_type": "stream",
     "text": [
      "Best Params for DecisionTreeRegressor: {'max_depth': 21, 'min_samples_split': 20, 'min_samples_leaf': 10}\n"
     ]
    },
    {
     "name": "stderr",
     "output_type": "stream",
     "text": [
      "[I 2025-04-05 01:52:09,092] Trial 0 finished with value: 0.5442777899064436 and parameters: {'n_estimators': 100, 'max_depth': 32, 'min_samples_split': 20, 'min_samples_leaf': 6}. Best is trial 0 with value: 0.5442777899064436.\n",
      "[I 2025-04-05 01:52:12,149] Trial 1 finished with value: 0.5529609188336799 and parameters: {'n_estimators': 150, 'max_depth': 15, 'min_samples_split': 3, 'min_samples_leaf': 7}. Best is trial 1 with value: 0.5529609188336799.\n",
      "[I 2025-04-05 01:52:20,153] Trial 2 finished with value: 0.5273637434492617 and parameters: {'n_estimators': 500, 'max_depth': 28, 'min_samples_split': 6, 'min_samples_leaf': 10}. Best is trial 1 with value: 0.5529609188336799.\n",
      "[I 2025-04-05 01:52:33,938] Trial 3 finished with value: 0.5764564929417382 and parameters: {'n_estimators': 450, 'max_depth': 22, 'min_samples_split': 3, 'min_samples_leaf': 1}. Best is trial 3 with value: 0.5764564929417382.\n",
      "[I 2025-04-05 01:52:43,161] Trial 4 finished with value: 0.5493838478968665 and parameters: {'n_estimators': 500, 'max_depth': 12, 'min_samples_split': 3, 'min_samples_leaf': 7}. Best is trial 3 with value: 0.5764564929417382.\n",
      "[I 2025-04-05 01:52:46,028] Trial 5 finished with value: 0.5414192117570851 and parameters: {'n_estimators': 150, 'max_depth': 13, 'min_samples_split': 19, 'min_samples_leaf': 7}. Best is trial 3 with value: 0.5764564929417382.\n",
      "[I 2025-04-05 01:52:55,724] Trial 6 finished with value: 0.5661741345147174 and parameters: {'n_estimators': 450, 'max_depth': 48, 'min_samples_split': 4, 'min_samples_leaf': 4}. Best is trial 3 with value: 0.5764564929417382.\n",
      "[I 2025-04-05 01:53:07,817] Trial 7 finished with value: 0.5718208657372423 and parameters: {'n_estimators': 500, 'max_depth': 13, 'min_samples_split': 2, 'min_samples_leaf': 3}. Best is trial 3 with value: 0.5764564929417382.\n",
      "[I 2025-04-05 01:53:16,464] Trial 8 finished with value: 0.5749447441724043 and parameters: {'n_estimators': 350, 'max_depth': 20, 'min_samples_split': 4, 'min_samples_leaf': 2}. Best is trial 3 with value: 0.5764564929417382.\n",
      "[I 2025-04-05 01:53:19,485] Trial 9 finished with value: 0.5463945877179576 and parameters: {'n_estimators': 150, 'max_depth': 14, 'min_samples_split': 19, 'min_samples_leaf': 3}. Best is trial 3 with value: 0.5764564929417382.\n",
      "[I 2025-04-05 01:53:28,490] Trial 10 finished with value: 0.5692457978849643 and parameters: {'n_estimators': 350, 'max_depth': 37, 'min_samples_split': 10, 'min_samples_leaf': 1}. Best is trial 3 with value: 0.5764564929417382.\n",
      "[I 2025-04-05 01:53:37,409] Trial 11 finished with value: 0.5716459599799991 and parameters: {'n_estimators': 350, 'max_depth': 25, 'min_samples_split': 8, 'min_samples_leaf': 1}. Best is trial 3 with value: 0.5764564929417382.\n",
      "[I 2025-04-05 01:53:46,094] Trial 12 finished with value: 0.5669031844338472 and parameters: {'n_estimators': 400, 'max_depth': 22, 'min_samples_split': 14, 'min_samples_leaf': 1}. Best is trial 3 with value: 0.5764564929417382.\n",
      "[I 2025-04-05 01:53:51,470] Trial 13 finished with value: 0.5656230354845098 and parameters: {'n_estimators': 250, 'max_depth': 21, 'min_samples_split': 13, 'min_samples_leaf': 3}. Best is trial 3 with value: 0.5764564929417382.\n",
      "[I 2025-04-05 01:53:57,812] Trial 14 finished with value: 0.5803683947136586 and parameters: {'n_estimators': 250, 'max_depth': 36, 'min_samples_split': 6, 'min_samples_leaf': 2}. Best is trial 14 with value: 0.5803683947136586.\n",
      "[I 2025-04-05 01:54:02,835] Trial 15 finished with value: 0.5685662684767971 and parameters: {'n_estimators': 250, 'max_depth': 39, 'min_samples_split': 7, 'min_samples_leaf': 5}. Best is trial 14 with value: 0.5803683947136586.\n",
      "[I 2025-04-05 01:54:06,713] Trial 16 finished with value: 0.5288776863463827 and parameters: {'n_estimators': 250, 'max_depth': 44, 'min_samples_split': 10, 'min_samples_leaf': 10}. Best is trial 14 with value: 0.5803683947136586.\n",
      "[I 2025-04-05 01:54:14,375] Trial 17 finished with value: 0.577548586207751 and parameters: {'n_estimators': 300, 'max_depth': 33, 'min_samples_split': 6, 'min_samples_leaf': 2}. Best is trial 14 with value: 0.5803683947136586.\n",
      "[I 2025-04-05 01:54:20,972] Trial 18 finished with value: 0.5711422471529098 and parameters: {'n_estimators': 300, 'max_depth': 34, 'min_samples_split': 6, 'min_samples_leaf': 4}. Best is trial 14 with value: 0.5803683947136586.\n",
      "[I 2025-04-05 01:54:25,588] Trial 19 finished with value: 0.569749557131966 and parameters: {'n_estimators': 200, 'max_depth': 41, 'min_samples_split': 13, 'min_samples_leaf': 2}. Best is trial 14 with value: 0.5803683947136586.\n",
      "[I 2025-04-05 01:54:25,589] A new study created in memory with name: no-name-99520f22-15b7-4cec-8e4d-9d3644fd9814\n"
     ]
    },
    {
     "name": "stdout",
     "output_type": "stream",
     "text": [
      "Best Params for Random Forest: {'n_estimators': 250, 'max_depth': 36, 'min_samples_split': 6, 'min_samples_leaf': 2}\n"
     ]
    },
    {
     "name": "stderr",
     "output_type": "stream",
     "text": [
      "[I 2025-04-05 01:54:32,804] Trial 0 finished with value: 0.5997550225224366 and parameters: {'n_estimators': 250, 'learning_rate': 0.0489204217462482, 'max_depth': 7, 'subsample': 0.986625538899444, 'min_samples_split': 3, 'min_samples_leaf': 5}. Best is trial 0 with value: 0.5997550225224366.\n",
      "[I 2025-04-05 01:54:40,256] Trial 1 finished with value: 0.6105341676208587 and parameters: {'n_estimators': 350, 'learning_rate': 0.09096413680296858, 'max_depth': 5, 'subsample': 0.9909970032436624, 'min_samples_split': 3, 'min_samples_leaf': 10}. Best is trial 1 with value: 0.6105341676208587.\n",
      "[I 2025-04-05 01:54:50,365] Trial 2 finished with value: 0.6014216224569939 and parameters: {'n_estimators': 300, 'learning_rate': 0.07310462845532036, 'max_depth': 10, 'subsample': 0.956332999004154, 'min_samples_split': 4, 'min_samples_leaf': 10}. Best is trial 1 with value: 0.6105341676208587.\n",
      "[I 2025-04-05 01:54:54,489] Trial 3 finished with value: 0.6326416101611662 and parameters: {'n_estimators': 200, 'learning_rate': 0.0615763245136609, 'max_depth': 7, 'subsample': 0.7068678374832265, 'min_samples_split': 11, 'min_samples_leaf': 4}. Best is trial 3 with value: 0.6326416101611662.\n",
      "[I 2025-04-05 01:55:04,917] Trial 4 finished with value: 0.6293553966721348 and parameters: {'n_estimators': 350, 'learning_rate': 0.1692222794427931, 'max_depth': 10, 'subsample': 0.8198400886688043, 'min_samples_split': 16, 'min_samples_leaf': 10}. Best is trial 3 with value: 0.6326416101611662.\n",
      "[I 2025-04-05 01:55:20,999] Trial 5 finished with value: 0.5885441912819112 and parameters: {'n_estimators': 450, 'learning_rate': 0.045679869683595074, 'max_depth': 9, 'subsample': 0.9717933408029575, 'min_samples_split': 3, 'min_samples_leaf': 5}. Best is trial 3 with value: 0.6326416101611662.\n",
      "[I 2025-04-05 01:55:23,930] Trial 6 finished with value: 0.5873733129906107 and parameters: {'n_estimators': 100, 'learning_rate': 0.10220493052529583, 'max_depth': 8, 'subsample': 0.8330280042887434, 'min_samples_split': 8, 'min_samples_leaf': 1}. Best is trial 3 with value: 0.6326416101611662.\n",
      "[I 2025-04-05 01:55:29,810] Trial 7 finished with value: 0.6095610954505113 and parameters: {'n_estimators': 500, 'learning_rate': 0.03235699559943056, 'max_depth': 3, 'subsample': 0.8787367711564571, 'min_samples_split': 19, 'min_samples_leaf': 3}. Best is trial 3 with value: 0.6326416101611662.\n",
      "[I 2025-04-05 01:55:30,872] Trial 8 finished with value: 0.5849641312905506 and parameters: {'n_estimators': 100, 'learning_rate': 0.1782485836354149, 'max_depth': 3, 'subsample': 0.7714702212502897, 'min_samples_split': 17, 'min_samples_leaf': 3}. Best is trial 3 with value: 0.6326416101611662.\n",
      "[I 2025-04-05 01:55:35,306] Trial 9 finished with value: 0.5930841092619539 and parameters: {'n_estimators': 250, 'learning_rate': 0.22494629360639562, 'max_depth': 5, 'subsample': 0.8071396280328423, 'min_samples_split': 20, 'min_samples_leaf': 4}. Best is trial 3 with value: 0.6326416101611662.\n",
      "[I 2025-04-05 01:55:38,648] Trial 10 finished with value: 0.5979741876119429 and parameters: {'n_estimators': 200, 'learning_rate': 0.27078897678117503, 'max_depth': 6, 'subsample': 0.6478808362337375, 'min_samples_split': 12, 'min_samples_leaf': 7}. Best is trial 3 with value: 0.6326416101611662.\n",
      "[I 2025-04-05 01:55:49,615] Trial 11 finished with value: 0.637986175237553 and parameters: {'n_estimators': 400, 'learning_rate': 0.15526327359261088, 'max_depth': 10, 'subsample': 0.6798672095216018, 'min_samples_split': 14, 'min_samples_leaf': 7}. Best is trial 11 with value: 0.637986175237553.\n",
      "[I 2025-04-05 01:55:58,371] Trial 12 finished with value: 0.6316088920815992 and parameters: {'n_estimators': 400, 'learning_rate': 0.140445806628988, 'max_depth': 8, 'subsample': 0.6781739561255415, 'min_samples_split': 12, 'min_samples_leaf': 7}. Best is trial 11 with value: 0.637986175237553.\n",
      "[I 2025-04-05 01:56:03,152] Trial 13 finished with value: 0.6269308574363486 and parameters: {'n_estimators': 200, 'learning_rate': 0.13095836553058282, 'max_depth': 8, 'subsample': 0.7146059198572421, 'min_samples_split': 9, 'min_samples_leaf': 7}. Best is trial 11 with value: 0.637986175237553.\n",
      "[I 2025-04-05 01:56:05,420] Trial 14 finished with value: 0.6166793169721789 and parameters: {'n_estimators': 150, 'learning_rate': 0.21816842591987473, 'max_depth': 6, 'subsample': 0.6228322198205298, 'min_samples_split': 14, 'min_samples_leaf': 8}. Best is trial 11 with value: 0.637986175237553.\n",
      "[I 2025-04-05 01:56:10,779] Trial 15 finished with value: 0.6122427217663188 and parameters: {'n_estimators': 400, 'learning_rate': 0.20389658474773276, 'max_depth': 9, 'subsample': 0.7261161238172839, 'min_samples_split': 7, 'min_samples_leaf': 1}. Best is trial 11 with value: 0.637986175237553.\n",
      "[I 2025-04-05 01:56:17,072] Trial 16 finished with value: 0.6331727581328432 and parameters: {'n_estimators': 500, 'learning_rate': 0.1153800210180175, 'max_depth': 4, 'subsample': 0.7386627713300921, 'min_samples_split': 10, 'min_samples_leaf': 8}. Best is trial 11 with value: 0.637986175237553.\n",
      "[I 2025-04-05 01:56:22,450] Trial 17 finished with value: 0.6337752728072708 and parameters: {'n_estimators': 500, 'learning_rate': 0.12204158389741859, 'max_depth': 4, 'subsample': 0.60138764378185, 'min_samples_split': 15, 'min_samples_leaf': 8}. Best is trial 11 with value: 0.637986175237553.\n",
      "[I 2025-04-05 01:56:27,423] Trial 18 finished with value: 0.5604491382882801 and parameters: {'n_estimators': 450, 'learning_rate': 0.2903496929181416, 'max_depth': 4, 'subsample': 0.6045493684055024, 'min_samples_split': 15, 'min_samples_leaf': 8}. Best is trial 11 with value: 0.637986175237553.\n",
      "[I 2025-04-05 01:56:33,523] Trial 19 finished with value: 0.5964920077363192 and parameters: {'n_estimators': 450, 'learning_rate': 0.15695613477240442, 'max_depth': 5, 'subsample': 0.6396827173832693, 'min_samples_split': 14, 'min_samples_leaf': 9}. Best is trial 11 with value: 0.637986175237553.\n",
      "[I 2025-04-05 01:56:33,524] A new study created in memory with name: no-name-0fe04391-9ea4-49fe-8576-2acf77c8d330\n"
     ]
    },
    {
     "name": "stdout",
     "output_type": "stream",
     "text": [
      "Best Params for Gradient Boosting: {'n_estimators': 400, 'learning_rate': 0.15526327359261088, 'max_depth': 10, 'subsample': 0.6798672095216018, 'min_samples_split': 14, 'min_samples_leaf': 7}\n"
     ]
    },
    {
     "name": "stderr",
     "output_type": "stream",
     "text": [
      "[I 2025-04-05 01:56:34,724] Trial 0 finished with value: 0.49268009438029137 and parameters: {'n_estimators': 100, 'learning_rate': 0.18579992079709237, 'loss': 'linear'}. Best is trial 0 with value: 0.49268009438029137.\n",
      "[I 2025-04-05 01:56:35,285] Trial 1 finished with value: 0.5263753310986028 and parameters: {'n_estimators': 50, 'learning_rate': 0.9570015112926353, 'loss': 'linear'}. Best is trial 1 with value: 0.5263753310986028.\n",
      "[I 2025-04-05 01:56:37,632] Trial 2 finished with value: 0.5412664669514888 and parameters: {'n_estimators': 250, 'learning_rate': 0.25170932017327224, 'loss': 'square'}. Best is trial 2 with value: 0.5412664669514888.\n",
      "[I 2025-04-05 01:56:38,256] Trial 3 finished with value: 0.46960648565038676 and parameters: {'n_estimators': 50, 'learning_rate': 0.2466104393924721, 'loss': 'exponential'}. Best is trial 2 with value: 0.5412664669514888.\n",
      "[I 2025-04-05 01:56:38,796] Trial 4 finished with value: 0.5053827160623283 and parameters: {'n_estimators': 50, 'learning_rate': 0.8207861485184582, 'loss': 'square'}. Best is trial 2 with value: 0.5412664669514888.\n",
      "[I 2025-04-05 01:56:39,472] Trial 5 finished with value: 0.4374549841685921 and parameters: {'n_estimators': 50, 'learning_rate': 0.0762184150707641, 'loss': 'linear'}. Best is trial 2 with value: 0.5412664669514888.\n",
      "[I 2025-04-05 01:56:41,242] Trial 6 finished with value: 0.5453374167825698 and parameters: {'n_estimators': 200, 'learning_rate': 0.7148822723506221, 'loss': 'exponential'}. Best is trial 6 with value: 0.5453374167825698.\n",
      "[I 2025-04-05 01:56:41,818] Trial 7 finished with value: 0.5080349570072241 and parameters: {'n_estimators': 50, 'learning_rate': 0.7952070626902982, 'loss': 'linear'}. Best is trial 6 with value: 0.5453374167825698.\n",
      "[I 2025-04-05 01:56:44,831] Trial 8 finished with value: 0.5234009856797388 and parameters: {'n_estimators': 300, 'learning_rate': 0.19574347772667494, 'loss': 'square'}. Best is trial 6 with value: 0.5453374167825698.\n",
      "[I 2025-04-05 01:56:45,414] Trial 9 finished with value: 0.4974056850810209 and parameters: {'n_estimators': 50, 'learning_rate': 0.31434839953474647, 'loss': 'square'}. Best is trial 6 with value: 0.5453374167825698.\n",
      "[I 2025-04-05 01:56:47,353] Trial 10 finished with value: 0.5417757180991285 and parameters: {'n_estimators': 200, 'learning_rate': 0.5574517606948122, 'loss': 'exponential'}. Best is trial 6 with value: 0.5453374167825698.\n",
      "[I 2025-04-05 01:56:49,419] Trial 11 finished with value: 0.5238745844735802 and parameters: {'n_estimators': 200, 'learning_rate': 0.5439478002652293, 'loss': 'exponential'}. Best is trial 6 with value: 0.5453374167825698.\n",
      "[I 2025-04-05 01:56:50,967] Trial 12 finished with value: 0.5136434041826554 and parameters: {'n_estimators': 150, 'learning_rate': 0.5551858989148012, 'loss': 'exponential'}. Best is trial 6 with value: 0.5453374167825698.\n",
      "[I 2025-04-05 01:56:52,910] Trial 13 finished with value: 0.5358952522559977 and parameters: {'n_estimators': 200, 'learning_rate': 0.7059368190875054, 'loss': 'exponential'}. Best is trial 6 with value: 0.5453374167825698.\n",
      "[I 2025-04-05 01:56:54,681] Trial 14 finished with value: 0.5048762902183696 and parameters: {'n_estimators': 150, 'learning_rate': 0.40438245505877685, 'loss': 'exponential'}. Best is trial 6 with value: 0.5453374167825698.\n",
      "[I 2025-04-05 01:56:57,575] Trial 15 finished with value: 0.5189814440813245 and parameters: {'n_estimators': 250, 'learning_rate': 0.654641146295598, 'loss': 'exponential'}. Best is trial 6 with value: 0.5453374167825698.\n",
      "[I 2025-04-05 01:57:00,565] Trial 16 finished with value: 0.5136289250184418 and parameters: {'n_estimators': 250, 'learning_rate': 0.436939936807371, 'loss': 'exponential'}. Best is trial 6 with value: 0.5453374167825698.\n",
      "[I 2025-04-05 01:57:02,713] Trial 17 finished with value: 0.5292771734635529 and parameters: {'n_estimators': 200, 'learning_rate': 0.9198856109660054, 'loss': 'exponential'}. Best is trial 6 with value: 0.5453374167825698.\n",
      "[I 2025-04-05 01:57:05,620] Trial 18 finished with value: 0.5355136785972161 and parameters: {'n_estimators': 300, 'learning_rate': 0.6489377846180829, 'loss': 'exponential'}. Best is trial 6 with value: 0.5453374167825698.\n",
      "[I 2025-04-05 01:57:07,068] Trial 19 finished with value: 0.5318489683209754 and parameters: {'n_estimators': 150, 'learning_rate': 0.7968997042349675, 'loss': 'exponential'}. Best is trial 6 with value: 0.5453374167825698.\n",
      "[I 2025-04-05 01:57:07,070] A new study created in memory with name: no-name-56d27fdb-be30-41bd-83d7-82cb22c8ce2b\n"
     ]
    },
    {
     "name": "stdout",
     "output_type": "stream",
     "text": [
      "Best Params for AdaBoost: {'n_estimators': 200, 'learning_rate': 0.7148822723506221, 'loss': 'exponential'}\n"
     ]
    },
    {
     "name": "stderr",
     "output_type": "stream",
     "text": [
      "[I 2025-04-05 01:57:08,797] Trial 0 finished with value: 0.6271712662365563 and parameters: {'n_estimators': 500, 'max_depth': 36, 'min_samples_split': 16, 'min_samples_leaf': 10}. Best is trial 0 with value: 0.6271712662365563.\n",
      "[I 2025-04-05 01:57:09,758] Trial 1 finished with value: 0.6670774490479756 and parameters: {'n_estimators': 200, 'max_depth': 33, 'min_samples_split': 11, 'min_samples_leaf': 5}. Best is trial 1 with value: 0.6670774490479756.\n",
      "[I 2025-04-05 01:57:10,472] Trial 2 finished with value: 0.6490348082435756 and parameters: {'n_estimators': 200, 'max_depth': 34, 'min_samples_split': 3, 'min_samples_leaf': 8}. Best is trial 1 with value: 0.6670774490479756.\n",
      "[I 2025-04-05 01:57:11,702] Trial 3 finished with value: 0.6266866145859185 and parameters: {'n_estimators': 400, 'max_depth': 15, 'min_samples_split': 12, 'min_samples_leaf': 10}. Best is trial 1 with value: 0.6670774490479756.\n",
      "[I 2025-04-05 01:57:14,618] Trial 4 finished with value: 0.6904623344912297 and parameters: {'n_estimators': 350, 'max_depth': 36, 'min_samples_split': 3, 'min_samples_leaf': 2}. Best is trial 4 with value: 0.6904623344912297.\n",
      "[I 2025-04-05 01:57:15,617] Trial 5 finished with value: 0.6274521930857134 and parameters: {'n_estimators': 300, 'max_depth': 31, 'min_samples_split': 20, 'min_samples_leaf': 10}. Best is trial 4 with value: 0.6904623344912297.\n",
      "[I 2025-04-05 01:57:16,213] Trial 6 finished with value: 0.6528981981260182 and parameters: {'n_estimators': 150, 'max_depth': 21, 'min_samples_split': 12, 'min_samples_leaf': 7}. Best is trial 4 with value: 0.6904623344912297.\n",
      "[I 2025-04-05 01:57:17,581] Trial 7 finished with value: 0.6642266331350797 and parameters: {'n_estimators': 300, 'max_depth': 30, 'min_samples_split': 14, 'min_samples_leaf': 5}. Best is trial 4 with value: 0.6904623344912297.\n",
      "[I 2025-04-05 01:57:19,395] Trial 8 finished with value: 0.6551924989081114 and parameters: {'n_estimators': 450, 'max_depth': 31, 'min_samples_split': 14, 'min_samples_leaf': 7}. Best is trial 4 with value: 0.6904623344912297.\n",
      "[I 2025-04-05 01:57:20,320] Trial 9 finished with value: 0.6580856228042722 and parameters: {'n_estimators': 250, 'max_depth': 21, 'min_samples_split': 10, 'min_samples_leaf': 6}. Best is trial 4 with value: 0.6904623344912297.\n",
      "[I 2025-04-05 01:57:25,505] Trial 10 finished with value: 0.7040826956935349 and parameters: {'n_estimators': 400, 'max_depth': 50, 'min_samples_split': 2, 'min_samples_leaf': 1}. Best is trial 10 with value: 0.7040826956935349.\n",
      "[I 2025-04-05 01:57:30,347] Trial 11 finished with value: 0.7036870881821734 and parameters: {'n_estimators': 350, 'max_depth': 50, 'min_samples_split': 2, 'min_samples_leaf': 1}. Best is trial 10 with value: 0.7040826956935349.\n",
      "[I 2025-04-05 01:57:33,508] Trial 12 finished with value: 0.6969489370918084 and parameters: {'n_estimators': 400, 'max_depth': 50, 'min_samples_split': 6, 'min_samples_leaf': 1}. Best is trial 10 with value: 0.7040826956935349.\n",
      "[I 2025-04-05 01:57:35,988] Trial 13 finished with value: 0.686877658042353 and parameters: {'n_estimators': 400, 'max_depth': 50, 'min_samples_split': 7, 'min_samples_leaf': 3}. Best is trial 10 with value: 0.7040826956935349.\n",
      "[I 2025-04-05 01:57:39,409] Trial 14 finished with value: 0.6895308756335944 and parameters: {'n_estimators': 500, 'max_depth': 43, 'min_samples_split': 6, 'min_samples_leaf': 3}. Best is trial 10 with value: 0.7040826956935349.\n",
      "[I 2025-04-05 01:57:44,520] Trial 15 finished with value: 0.7036870881821734 and parameters: {'n_estimators': 350, 'max_depth': 42, 'min_samples_split': 2, 'min_samples_leaf': 1}. Best is trial 10 with value: 0.7040826956935349.\n",
      "[I 2025-04-05 01:57:45,193] Trial 16 finished with value: 0.6780978336676571 and parameters: {'n_estimators': 100, 'max_depth': 44, 'min_samples_split': 8, 'min_samples_leaf': 3}. Best is trial 10 with value: 0.7040826956935349.\n",
      "[I 2025-04-05 01:57:47,066] Trial 17 finished with value: 0.6784945325149421 and parameters: {'n_estimators': 350, 'max_depth': 46, 'min_samples_split': 4, 'min_samples_leaf': 4}. Best is trial 10 with value: 0.7040826956935349.\n",
      "[I 2025-04-05 01:57:50,803] Trial 18 finished with value: 0.6953989059554293 and parameters: {'n_estimators': 450, 'max_depth': 39, 'min_samples_split': 5, 'min_samples_leaf': 1}. Best is trial 10 with value: 0.7040826956935349.\n",
      "[I 2025-04-05 01:57:53,426] Trial 19 finished with value: 0.6840568183173041 and parameters: {'n_estimators': 450, 'max_depth': 25, 'min_samples_split': 9, 'min_samples_leaf': 2}. Best is trial 10 with value: 0.7040826956935349.\n",
      "[I 2025-04-05 01:57:53,428] A new study created in memory with name: no-name-b74f567b-9d9a-4188-b336-6f5dbacd32e6\n"
     ]
    },
    {
     "name": "stdout",
     "output_type": "stream",
     "text": [
      "Best Params for Extra Trees: {'n_estimators': 400, 'max_depth': 50, 'min_samples_split': 2, 'min_samples_leaf': 1}\n"
     ]
    },
    {
     "name": "stderr",
     "output_type": "stream",
     "text": [
      "[I 2025-04-05 01:57:53,755] Trial 0 finished with value: -0.009678980894926692 and parameters: {'n_estimators': 350, 'learning_rate': 0.22980047815433144, 'max_depth': 10, 'subsample': 0.6937164009978596, 'colsample_bytree': 0.7480657593694866, 'gamma': 3.798030523879956, 'reg_alpha': 0.3972871808596713, 'reg_lambda': 0.270638016023506, 'min_child_weight': 1}. Best is trial 0 with value: -0.009678980894926692.\n",
      "[I 2025-04-05 01:57:54,061] Trial 1 finished with value: -0.008078670707325708 and parameters: {'n_estimators': 350, 'learning_rate': 0.2780977163699862, 'max_depth': 3, 'subsample': 0.8689783355617376, 'colsample_bytree': 0.9122308526423271, 'gamma': 4.315737748816408, 'reg_alpha': 0.5923380000553617, 'reg_lambda': 0.7558140995583346, 'min_child_weight': 7}. Best is trial 1 with value: -0.008078670707325708.\n",
      "[I 2025-04-05 01:57:54,270] Trial 2 finished with value: 0.5548103449554258 and parameters: {'n_estimators': 200, 'learning_rate': 0.22480275528010157, 'max_depth': 7, 'subsample': 0.7710028011363942, 'colsample_bytree': 0.6207375337307058, 'gamma': 0.07882370232007607, 'reg_alpha': 0.35907157181008864, 'reg_lambda': 0.8724485174470947, 'min_child_weight': 7}. Best is trial 2 with value: 0.5548103449554258.\n",
      "[I 2025-04-05 01:57:54,425] Trial 3 finished with value: 0.0822069762156834 and parameters: {'n_estimators': 150, 'learning_rate': 0.22208540709382052, 'max_depth': 4, 'subsample': 0.897688568799053, 'colsample_bytree': 0.6247234480114588, 'gamma': 3.2790238481009037, 'reg_alpha': 0.5384423846528762, 'reg_lambda': 0.2725961437844491, 'min_child_weight': 7}. Best is trial 2 with value: 0.5548103449554258.\n",
      "[I 2025-04-05 01:57:54,693] Trial 4 finished with value: 0.20134708593917605 and parameters: {'n_estimators': 300, 'learning_rate': 0.1646818461417243, 'max_depth': 7, 'subsample': 0.9494579563425797, 'colsample_bytree': 0.8456094423960409, 'gamma': 1.8705871623493764, 'reg_alpha': 0.8094968908410963, 'reg_lambda': 0.09012767318802517, 'min_child_weight': 10}. Best is trial 2 with value: 0.5548103449554258.\n",
      "[I 2025-04-05 01:57:54,996] Trial 5 finished with value: 0.11411619531041683 and parameters: {'n_estimators': 350, 'learning_rate': 0.18671046063978095, 'max_depth': 4, 'subsample': 0.7037209412248292, 'colsample_bytree': 0.7988390274630778, 'gamma': 1.9970552937161723, 'reg_alpha': 0.6559897630707833, 'reg_lambda': 0.5524470773832649, 'min_child_weight': 10}. Best is trial 2 with value: 0.5548103449554258.\n",
      "[I 2025-04-05 01:57:55,286] Trial 6 finished with value: 0.10484966598019119 and parameters: {'n_estimators': 350, 'learning_rate': 0.15145171988394962, 'max_depth': 7, 'subsample': 0.9260117243279727, 'colsample_bytree': 0.9338690166074537, 'gamma': 2.5854599694077502, 'reg_alpha': 0.005850326470157263, 'reg_lambda': 0.7469847247888473, 'min_child_weight': 4}. Best is trial 2 with value: 0.5548103449554258.\n",
      "[I 2025-04-05 01:57:55,589] Trial 7 finished with value: 0.21978974288299002 and parameters: {'n_estimators': 350, 'learning_rate': 0.27514850498246124, 'max_depth': 8, 'subsample': 0.8584394532971773, 'colsample_bytree': 0.8694328465475268, 'gamma': 1.2130230741289076, 'reg_alpha': 0.36961216110431316, 'reg_lambda': 0.11448102401175919, 'min_child_weight': 9}. Best is trial 2 with value: 0.5548103449554258.\n",
      "[I 2025-04-05 01:57:55,917] Trial 8 finished with value: 0.1215277547989877 and parameters: {'n_estimators': 400, 'learning_rate': 0.12469249629374489, 'max_depth': 9, 'subsample': 0.6000667771637797, 'colsample_bytree': 0.7422421913357574, 'gamma': 1.8861280344487001, 'reg_alpha': 0.7195562338309529, 'reg_lambda': 0.36026078774909476, 'min_child_weight': 7}. Best is trial 2 with value: 0.5548103449554258.\n",
      "[I 2025-04-05 01:57:56,317] Trial 9 finished with value: 0.10280959865474626 and parameters: {'n_estimators': 500, 'learning_rate': 0.02060376848137812, 'max_depth': 10, 'subsample': 0.7869197023876298, 'colsample_bytree': 0.6726405591666581, 'gamma': 2.327428161863292, 'reg_alpha': 0.006029034138190115, 'reg_lambda': 0.25533398291031084, 'min_child_weight': 1}. Best is trial 2 with value: 0.5548103449554258.\n",
      "[I 2025-04-05 01:57:56,538] Trial 10 finished with value: 0.5221096198049673 and parameters: {'n_estimators': 100, 'learning_rate': 0.0803387345201137, 'max_depth': 5, 'subsample': 0.7617383355491307, 'colsample_bytree': 0.9996607727745561, 'gamma': 0.09482396902654155, 'reg_alpha': 0.2085685711482128, 'reg_lambda': 0.9765389090427044, 'min_child_weight': 4}. Best is trial 2 with value: 0.5548103449554258.\n",
      "[I 2025-04-05 01:57:56,757] Trial 11 finished with value: 0.524399110021504 and parameters: {'n_estimators': 100, 'learning_rate': 0.07671722153062045, 'max_depth': 5, 'subsample': 0.7379541350619561, 'colsample_bytree': 0.9995734709867351, 'gamma': 0.10334332342811173, 'reg_alpha': 0.22846260466856433, 'reg_lambda': 0.9838741268842602, 'min_child_weight': 4}. Best is trial 2 with value: 0.5548103449554258.\n",
      "[I 2025-04-05 01:57:57,002] Trial 12 finished with value: 0.3797402510523811 and parameters: {'n_estimators': 200, 'learning_rate': 0.06657331408338142, 'max_depth': 6, 'subsample': 0.7186337838023538, 'colsample_bytree': 0.606216728858405, 'gamma': 0.4376580175826329, 'reg_alpha': 0.23329519640941754, 'reg_lambda': 0.9387447470070642, 'min_child_weight': 4}. Best is trial 2 with value: 0.5548103449554258.\n",
      "[I 2025-04-05 01:57:57,250] Trial 13 finished with value: 0.2314630598355606 and parameters: {'n_estimators': 200, 'learning_rate': 0.1014269496663957, 'max_depth': 6, 'subsample': 0.638162905549339, 'colsample_bytree': 0.9960879786866447, 'gamma': 0.8063114368868552, 'reg_alpha': 0.93765422722097, 'reg_lambda': 0.8089990826392048, 'min_child_weight': 5}. Best is trial 2 with value: 0.5548103449554258.\n",
      "[I 2025-04-05 01:57:57,433] Trial 14 finished with value: 0.20034341284595814 and parameters: {'n_estimators': 100, 'learning_rate': 0.014440671790571541, 'max_depth': 5, 'subsample': 0.8091736226934013, 'colsample_bytree': 0.6993239982632097, 'gamma': 1.1001458749016417, 'reg_alpha': 0.2074458080072665, 'reg_lambda': 0.5880133534069572, 'min_child_weight': 3}. Best is trial 2 with value: 0.5548103449554258.\n",
      "[I 2025-04-05 01:57:57,688] Trial 15 finished with value: 0.48980729819456503 and parameters: {'n_estimators': 200, 'learning_rate': 0.22256065846182438, 'max_depth': 8, 'subsample': 0.7585783259059511, 'colsample_bytree': 0.7922096367778961, 'gamma': 0.19496659250502696, 'reg_alpha': 0.40671437104959873, 'reg_lambda': 0.8560378661868091, 'min_child_weight': 6}. Best is trial 2 with value: 0.5548103449554258.\n",
      "[I 2025-04-05 01:57:57,964] Trial 16 finished with value: 0.20411301357544076 and parameters: {'n_estimators': 250, 'learning_rate': 0.06334548062235344, 'max_depth': 5, 'subsample': 0.8222259051269057, 'colsample_bytree': 0.6644509562121024, 'gamma': 1.3021603197290799, 'reg_alpha': 0.2867841218203229, 'reg_lambda': 0.661155434165708, 'min_child_weight': 8}. Best is trial 2 with value: 0.5548103449554258.\n",
      "[I 2025-04-05 01:57:58,164] Trial 17 finished with value: -0.009072882332429977 and parameters: {'n_estimators': 150, 'learning_rate': 0.19785389114078597, 'max_depth': 8, 'subsample': 0.6526678375870311, 'colsample_bytree': 0.93422842347001, 'gamma': 4.959714947389333, 'reg_alpha': 0.13891427534526885, 'reg_lambda': 0.9934824193894568, 'min_child_weight': 2}. Best is trial 2 with value: 0.5548103449554258.\n",
      "[I 2025-04-05 01:57:58,374] Trial 18 finished with value: 0.2780628944637188 and parameters: {'n_estimators': 150, 'learning_rate': 0.12777881432578436, 'max_depth': 3, 'subsample': 0.7376854075436482, 'colsample_bytree': 0.8677556659084118, 'gamma': 0.679298673423772, 'reg_alpha': 0.4580046809531185, 'reg_lambda': 0.4449406226925875, 'min_child_weight': 5}. Best is trial 2 with value: 0.5548103449554258.\n",
      "[I 2025-04-05 01:57:58,665] Trial 19 finished with value: 0.5593224436951882 and parameters: {'n_estimators': 250, 'learning_rate': 0.29894984957134574, 'max_depth': 6, 'subsample': 0.9998226640222525, 'colsample_bytree': 0.7219674663953181, 'gamma': 0.050924313002387145, 'reg_alpha': 0.11276501026296493, 'reg_lambda': 0.8740890175614293, 'min_child_weight': 6}. Best is trial 19 with value: 0.5593224436951882.\n"
     ]
    },
    {
     "name": "stdout",
     "output_type": "stream",
     "text": [
      "Best Params for XGBoost: {'n_estimators': 250, 'learning_rate': 0.29894984957134574, 'max_depth': 6, 'subsample': 0.9998226640222525, 'colsample_bytree': 0.7219674663953181, 'gamma': 0.050924313002387145, 'reg_alpha': 0.11276501026296493, 'reg_lambda': 0.8740890175614293, 'min_child_weight': 6}\n",
      "\n",
      "Final Model Performance After Optuna Hyperparameter Tuning:\n",
      "Model               R2 Score       RMSE           \n",
      "==================================================\n",
      "LinearRegression    0.57480.0914\n",
      "DecisionTreeRegressor0.33080.1146\n",
      "Random Forest       0.62820.0855\n",
      "Gradient Boosting   0.71540.0748\n",
      "AdaBoost            0.55260.0937\n",
      "Extra Trees         0.64940.0830\n",
      "XGBoost             0.49520.0996\n"
     ]
    }
   ],
   "source": [
    "import optuna\n",
    "from sklearn.linear_model import LinearRegression\n",
    "from sklearn.tree import DecisionTreeRegressor\n",
    "from sklearn.ensemble import RandomForestRegressor, GradientBoostingRegressor, AdaBoostRegressor, ExtraTreesRegressor\n",
    "from xgboost import XGBRegressor\n",
    "from sklearn.metrics import r2_score, mean_squared_error\n",
    "import numpy as np\n",
    "import warnings\n",
    "\n",
    "# Suppress warnings for cleaner output\n",
    "warnings.filterwarnings(\"ignore\")\n",
    "\n",
    "# Hyperparameter optimization using Optuna\n",
    "best_models = {}\n",
    "best_params = {}\n",
    "\n",
    "# Main guard to avoid multiprocessing issues in Colab or Jupyter\n",
    "if __name__ == \"__main__\":\n",
    "    for name, model in {\n",
    "        'LinearRegression': LinearRegression(),\n",
    "        'DecisionTreeRegressor': DecisionTreeRegressor(),\n",
    "        'Random Forest': RandomForestRegressor(random_state=42),\n",
    "        'Gradient Boosting': GradientBoostingRegressor(random_state=42),\n",
    "        'AdaBoost': AdaBoostRegressor(random_state=42),\n",
    "        'Extra Trees': ExtraTreesRegressor(random_state=42),\n",
    "        'XGBoost': XGBRegressor(random_state=42)\n",
    "    }.items():\n",
    "\n",
    "        if name == 'LinearRegression':\n",
    "            best_models[name] = model.fit(X_train, y_train)\n",
    "            print(f\"Skipping hyperparameter tuning for {name}\")\n",
    "        else:\n",
    "            def objective(trial):\n",
    "                params = {}\n",
    "                if name == 'DecisionTreeRegressor':\n",
    "                    params = {\n",
    "                        'max_depth': trial.suggest_int('max_depth', 5, 50),\n",
    "                        'min_samples_split': trial.suggest_int('min_samples_split', 2, 20),\n",
    "                        'min_samples_leaf': trial.suggest_int('min_samples_leaf', 1, 10),\n",
    "                       \n",
    "                    }\n",
    "                elif name == 'Random Forest':\n",
    "                    params = {\n",
    "                        'n_estimators': trial.suggest_int('n_estimators', 100, 500, step=50),\n",
    "                        'max_depth': trial.suggest_int('max_depth', 10, 50),\n",
    "                        'min_samples_split': trial.suggest_int('min_samples_split', 2, 20),\n",
    "                        'min_samples_leaf': trial.suggest_int('min_samples_leaf', 1, 10),\n",
    "                    }\n",
    "                elif name == 'Gradient Boosting':\n",
    "                    params = {\n",
    "                        'n_estimators': trial.suggest_int('n_estimators', 100, 500, step=50),\n",
    "                        'learning_rate': trial.suggest_float('learning_rate', 0.01, 0.3),\n",
    "                        'max_depth': trial.suggest_int('max_depth', 3, 10),\n",
    "                        'subsample': trial.suggest_float('subsample', 0.6, 1.0),\n",
    "                        'min_samples_split': trial.suggest_int('min_samples_split', 2, 20),\n",
    "                        'min_samples_leaf': trial.suggest_int('min_samples_leaf', 1, 10)\n",
    "                    }\n",
    "                elif name == 'AdaBoost':\n",
    "                    params = {\n",
    "                        'n_estimators': trial.suggest_int('n_estimators', 50, 300, step=50),\n",
    "                        'learning_rate': trial.suggest_float('learning_rate', 0.01, 1.0),\n",
    "                        'loss': trial.suggest_categorical('loss', ['linear', 'square', 'exponential'])\n",
    "                    }\n",
    "                elif name == 'Extra Trees':\n",
    "                    params = {\n",
    "                        'n_estimators': trial.suggest_int('n_estimators', 100, 500, step=50),\n",
    "                        'max_depth': trial.suggest_int('max_depth', 10, 50),\n",
    "                        'min_samples_split': trial.suggest_int('min_samples_split', 2, 20),\n",
    "                        'min_samples_leaf': trial.suggest_int('min_samples_leaf', 1, 10),\n",
    "\n",
    "                    }\n",
    "                elif name == 'XGBoost':\n",
    "                    params = {\n",
    "                        'n_estimators': trial.suggest_int('n_estimators', 100, 500, step=50),\n",
    "                        'learning_rate': trial.suggest_float('learning_rate', 0.01, 0.3),\n",
    "                        'max_depth': trial.suggest_int('max_depth', 3, 10),\n",
    "                        'subsample': trial.suggest_float('subsample', 0.6, 1.0),\n",
    "                        'colsample_bytree': trial.suggest_float('colsample_bytree', 0.6, 1.0),\n",
    "                        'gamma': trial.suggest_float('gamma', 0, 5),\n",
    "                        'reg_alpha': trial.suggest_float('reg_alpha', 0, 1),\n",
    "                        'reg_lambda': trial.suggest_float('reg_lambda', 0, 1),\n",
    "                        'min_child_weight': trial.suggest_int('min_child_weight', 1, 10)\n",
    "                    }\n",
    "\n",
    "                model.set_params(**params)\n",
    "                model.fit(X_train, y_train)\n",
    "                y_pred = model.predict(X_val)\n",
    "                return r2_score(y_val, y_pred)\n",
    "\n",
    "            study = optuna.create_study(direction='maximize', sampler=optuna.samplers.TPESampler())\n",
    "            study.optimize(objective, n_trials=20, n_jobs=1)\n",
    "\n",
    "            best_models[name] = model.set_params(**study.best_params)\n",
    "            best_params[name] = study.best_params\n",
    "            print(f\"Best Params for {name}: {study.best_params}\")\n",
    "\n",
    "# Evaluate on test set\n",
    "print(\"\\nFinal Model Performance After Optuna Hyperparameter Tuning:\")\n",
    "print(f\"{'Model':<20}{'R2 Score':<15}{'RMSE':<15}\")\n",
    "print(\"=\" * 50)\n",
    "for name, model in best_models.items():\n",
    "    model.fit(X_train, y_train)\n",
    "    y_pred = model.predict(X_test)\n",
    "    r2 = r2_score(y_test, y_pred)\n",
    "    rmse = np.sqrt(mean_squared_error(y_test, y_pred))\n",
    "    print(f\"{name:<20}{r2:.4f}{rmse:.4f}\")\n"
   ]
  },
  {
   "cell_type": "code",
   "execution_count": null,
   "metadata": {},
   "outputs": [],
   "source": []
  },
  {
   "cell_type": "code",
   "execution_count": null,
   "metadata": {},
   "outputs": [],
   "source": []
  },
  {
   "cell_type": "code",
   "execution_count": 155,
   "metadata": {},
   "outputs": [
    {
     "name": "stdout",
     "output_type": "stream",
     "text": [
      "Skipping hyperparameter tuning for LinearRegression\n",
      "Training DecisionTreeRegressor with RandomizedSearchCV...\n",
      "Fitting 3 folds for each of 10 candidates, totalling 30 fits\n",
      "Best Params for DecisionTreeRegressor: {'min_samples_split': 2, 'max_depth': 5}\n",
      "Best R2 Score on Validation for DecisionTreeRegressor: 0.2909433817435879\n",
      "Training Random Forest with RandomizedSearchCV...\n",
      "Fitting 3 folds for each of 10 candidates, totalling 30 fits\n",
      "Best Params for Random Forest: {'n_estimators': 250, 'min_samples_split': 2, 'max_depth': 30}\n",
      "Best R2 Score on Validation for Random Forest: 0.5806450653285029\n",
      "Training Gradient Boosting with RandomizedSearchCV...\n",
      "Fitting 3 folds for each of 10 candidates, totalling 30 fits\n",
      "Best Params for Gradient Boosting: {'n_estimators': 300, 'max_depth': 5, 'learning_rate': 0.1}\n",
      "Best R2 Score on Validation for Gradient Boosting: 0.6265721511197297\n",
      "Training AdaBoost with RandomizedSearchCV...\n",
      "Fitting 3 folds for each of 10 candidates, totalling 30 fits\n",
      "Best Params for AdaBoost: {'n_estimators': 200, 'learning_rate': 0.1}\n",
      "Best R2 Score on Validation for AdaBoost: 0.5130341981453536\n",
      "Training Extra Trees with RandomizedSearchCV...\n",
      "Fitting 3 folds for each of 10 candidates, totalling 30 fits\n",
      "Best Params for Extra Trees: {'n_estimators': 300, 'min_samples_split': 2, 'min_samples_leaf': 1, 'max_depth': 30}\n",
      "Best R2 Score on Validation for Extra Trees: 0.7009734728678408\n",
      "Training XGBoost with RandomizedSearchCV...\n",
      "Fitting 3 folds for each of 10 candidates, totalling 30 fits\n",
      "Best Params for XGBoost: {'n_estimators': 100, 'max_depth': 5, 'learning_rate': 0.1}\n",
      "Best R2 Score on Validation for XGBoost: 0.622472412004246\n",
      "\n",
      "Final Model Performance After Random Search Hyperparameter Tuning:\n",
      "Model               R2 Score       RMSE           \n",
      "==================================================\n",
      "LinearRegression    0.57480.0914\n",
      "DecisionTreeRegressor0.49680.0994\n",
      "Random Forest       0.63010.0852\n",
      "Gradient Boosting   0.71100.0753\n",
      "AdaBoost            0.54350.0947\n",
      "Extra Trees         0.65010.0829\n",
      "XGBoost             0.68920.0781\n"
     ]
    }
   ],
   "source": [
    "from sklearn.linear_model import LinearRegression\n",
    "from sklearn.tree import DecisionTreeRegressor\n",
    "from sklearn.ensemble import RandomForestRegressor, GradientBoostingRegressor, AdaBoostRegressor, ExtraTreesRegressor\n",
    "from xgboost import XGBRegressor\n",
    "from sklearn.model_selection import RandomizedSearchCV, train_test_split\n",
    "from sklearn.metrics import r2_score, mean_squared_error\n",
    "import numpy as np\n",
    "import warnings\n",
    "\n",
    "# Suppress warnings for cleaner output\n",
    "warnings.filterwarnings(\"ignore\")\n",
    "\n",
    "# Split data into train, validation, and test sets\n",
    "X_val, X_test, y_val, y_test = train_test_split(X_temp, y_temp, test_size=0.4, random_state=42)\n",
    "\n",
    "# Define models (Linear Regression is included without tuning)\n",
    "models = {\n",
    "    'LinearRegression': LinearRegression(),\n",
    "    'DecisionTreeRegressor': DecisionTreeRegressor(),\n",
    "    'Random Forest': RandomForestRegressor(random_state=42),\n",
    "    'Gradient Boosting': GradientBoostingRegressor(random_state=42),\n",
    "    'AdaBoost': AdaBoostRegressor(random_state=42),\n",
    "    'Extra Trees': ExtraTreesRegressor(random_state=42),\n",
    "    'XGBoost': XGBRegressor(random_state=42)\n",
    "}\n",
    "\n",
    "# Hyperparameter grids for RandomizedSearchCV\n",
    "param_grids = {\n",
    "    'DecisionTreeRegressor': {\n",
    "        'max_depth': [5, 10, 15, 20],\n",
    "        'min_samples_split': [2, 5, 10]\n",
    "    },\n",
    "    'Random Forest': {\n",
    "        'n_estimators': [100, 150, 200, 250, 300],\n",
    "        'max_depth': [10, 15, 20, 25, 30],\n",
    "        'min_samples_split': [2, 5, 10]\n",
    "    },\n",
    "    'Gradient Boosting': {\n",
    "        'n_estimators': [100, 150, 200, 250, 300],\n",
    "        'learning_rate': [0.01, 0.05, 0.1],\n",
    "        'max_depth': [3, 5, 7]\n",
    "    },\n",
    "    'AdaBoost': {\n",
    "        'n_estimators': [50, 100, 150, 200],\n",
    "        'learning_rate': [0.01, 0.05, 0.1]\n",
    "    },\n",
    "    'Extra Trees': {\n",
    "        'n_estimators': [100, 150, 200, 250, 300],\n",
    "        'max_depth': [10, 15, 20, 25, 30],\n",
    "        'min_samples_split': [2, 5, 10],\n",
    "        'min_samples_leaf': [1, 2, 4]\n",
    "    },\n",
    "    'XGBoost': {\n",
    "        'n_estimators': [100, 150, 200, 250, 300],\n",
    "        'learning_rate': [0.01, 0.05, 0.1],\n",
    "        'max_depth': [3, 5, 7, 10]\n",
    "    }\n",
    "}\n",
    "\n",
    "# Dictionary to store best models and parameters\n",
    "best_models = {}\n",
    "best_params = {}\n",
    "\n",
    "# Hyperparameter tuning with RandomizedSearchCV\n",
    "for name, model in models.items():\n",
    "    if name == 'LinearRegression':\n",
    "        best_models[name] = model.fit(X_train, y_train)\n",
    "        print(f\"Skipping hyperparameter tuning for {name}\")\n",
    "    else:\n",
    "        print(f\"Training {name} with RandomizedSearchCV...\")\n",
    "        random_search = RandomizedSearchCV(\n",
    "            model, param_grids[name], n_iter=10, cv=3, scoring='r2', verbose=1, n_jobs=-1, random_state=42\n",
    "        )\n",
    "        random_search.fit(X_train, y_train)\n",
    "\n",
    "        # Store best model and parameters\n",
    "        best_models[name] = random_search.best_estimator_\n",
    "        best_params[name] = random_search.best_params_\n",
    "\n",
    "        # Validate on validation set\n",
    "        val_pred = random_search.best_estimator_.predict(X_val)\n",
    "        val_r2 = r2_score(y_val, val_pred)\n",
    "        print(f\"Best Params for {name}: {random_search.best_params_}\")\n",
    "        print(f\"Best R2 Score on Validation for {name}: {val_r2}\")\n",
    "\n",
    "# Evaluate on test set\n",
    "print(\"\\nFinal Model Performance After Random Search Hyperparameter Tuning:\")\n",
    "print(f\"{'Model':<20}{'R2 Score':<15}{'RMSE':<15}\")\n",
    "print(\"=\" * 50)\n",
    "for name, model in best_models.items():\n",
    "    model.fit(X_train, y_train)\n",
    "    y_pred = model.predict(X_test)\n",
    "    r2 = r2_score(y_test, y_pred)\n",
    "    rmse = np.sqrt(mean_squared_error(y_test, y_pred))\n",
    "    print(f\"{name:<20}{r2:.4f}{rmse:.4f}\")\n"
   ]
  },
  {
   "cell_type": "code",
   "execution_count": null,
   "metadata": {},
   "outputs": [],
   "source": []
  },
  {
   "cell_type": "code",
   "execution_count": null,
   "metadata": {},
   "outputs": [],
   "source": []
  },
  {
   "cell_type": "code",
   "execution_count": 43,
   "metadata": {},
   "outputs": [],
   "source": [
    "# Assuming X and y are your features and target variables\n",
    "X_train, X_test, y_train, y_test = train_test_split(X, y, test_size=0.2, random_state=42)\n"
   ]
  },
  {
   "cell_type": "code",
   "execution_count": 45,
   "metadata": {},
   "outputs": [],
   "source": [
    "X_train.columns = X_train.columns.str.replace(r\"[\\[\\]<]\", \"\", regex=True)\n",
    "X_test.columns = X_test.columns.str.replace(r\"[\\[\\]<]\", \"\", regex=True)\n"
   ]
  },
  {
   "cell_type": "code",
   "execution_count": 47,
   "metadata": {},
   "outputs": [],
   "source": [
    "X_train.columns = X_train.columns.astype(str)\n",
    "X_test.columns = X_test.columns.astype(str)\n"
   ]
  },
  {
   "cell_type": "code",
   "execution_count": 63,
   "metadata": {},
   "outputs": [
    {
     "name": "stdout",
     "output_type": "stream",
     "text": [
      "Stacked Model R² Score: 0.7322\n",
      "Stacked Model RMSE: 0.0739\n"
     ]
    }
   ],
   "source": [
    "from sklearn.ensemble import StackingRegressor, GradientBoostingRegressor, ExtraTreesRegressor\n",
    "from xgboost import XGBRegressor\n",
    "from sklearn.linear_model import LinearRegression\n",
    "from sklearn.model_selection import train_test_split\n",
    "from sklearn.metrics import r2_score, mean_squared_error\n",
    "import numpy as np\n",
    "\n",
    "\n",
    "# Base models\n",
    "base_models = [\n",
    "    ('gb', GradientBoostingRegressor(random_state=42)),\n",
    "    ('xgb', XGBRegressor(random_state=42)),\n",
    "    ('et', ExtraTreesRegressor(random_state=42))\n",
    "]\n",
    "\n",
    "# Meta-model\n",
    "meta_model = LinearRegression()\n",
    "\n",
    "# Stacking Regressor\n",
    "stacking_regressor = StackingRegressor(estimators=base_models, final_estimator=meta_model, n_jobs=-1)\n",
    "\n",
    "# Training the stacked model\n",
    "stacking_regressor.fit(X_train, y_train)\n",
    "\n",
    "# Predictions\n",
    "y_pred = stacking_regressor.predict(X_test)\n",
    "\n",
    "# Evaluation\n",
    "r2 = r2_score(y_test, y_pred)\n",
    "rmse = np.sqrt(mean_squared_error(y_test, y_pred))\n",
    "print(f'Stacked Model R² Score: {r2:.4f}')\n",
    "print(f'Stacked Model RMSE: {rmse:.4f}')\n"
   ]
  },
  {
   "cell_type": "code",
   "execution_count": 59,
   "metadata": {},
   "outputs": [
    {
     "name": "stdout",
     "output_type": "stream",
     "text": [
      "Voting Regressor R² Score: 0.7142\n",
      "Voting Regressor RMSE: 0.0763\n"
     ]
    }
   ],
   "source": [
    "from sklearn.ensemble import VotingRegressor, GradientBoostingRegressor, ExtraTreesRegressor\n",
    "from xgboost import XGBRegressor\n",
    "from sklearn.metrics import r2_score, mean_squared_error\n",
    "import numpy as np\n",
    "\n",
    "# Voting Regressor with optimized parameters\n",
    "voting_regressor = VotingRegressor(estimators=[\n",
    "    ('gb', GradientBoostingRegressor(\n",
    "        n_estimators=300,\n",
    "        max_depth=5,\n",
    "        learning_rate=0.1,\n",
    "        random_state=42\n",
    "    )),\n",
    "    ('xgb', XGBRegressor(\n",
    "        n_estimators=100,\n",
    "        max_depth=5,\n",
    "        learning_rate=0.1,\n",
    "        random_state=42\n",
    "    )),\n",
    "    ('et', ExtraTreesRegressor(\n",
    "        n_estimators=300,\n",
    "        min_samples_split=2,\n",
    "        min_samples_leaf=1,\n",
    "        max_depth=30,\n",
    "        random_state=42\n",
    "    ))\n",
    "])\n",
    "\n",
    "# Training\n",
    "voting_regressor.fit(X_train, y_train)\n",
    "\n",
    "# Predictions and evaluation\n",
    "y_pred_voting = voting_regressor.predict(X_test)\n",
    "r2_voting = r2_score(y_test, y_pred_voting)\n",
    "rmse_voting = np.sqrt(mean_squared_error(y_test, y_pred_voting))\n",
    "print(f'Voting Regressor R² Score: {r2_voting:.4f}')\n",
    "print(f'Voting Regressor RMSE: {rmse_voting:.4f}')\n"
   ]
  },
  {
   "cell_type": "code",
   "execution_count": 57,
   "metadata": {},
   "outputs": [
    {
     "name": "stdout",
     "output_type": "stream",
     "text": [
      "Bagging Regressor R² Score: 0.6794\n",
      "Bagging Regressor RMSE: 0.0808\n"
     ]
    }
   ],
   "source": [
    "from sklearn.ensemble import BaggingRegressor, GradientBoostingRegressor\n",
    "\n",
    "# Bagging Regressor with optimized Gradient Boosting as the base estimator\n",
    "bagging_regressor = BaggingRegressor(\n",
    "    estimator=GradientBoostingRegressor(\n",
    "        n_estimators=300,\n",
    "        max_depth=5,\n",
    "        learning_rate=0.1,\n",
    "        random_state=42\n",
    "    ),\n",
    "    n_estimators=10,\n",
    "    random_state=42\n",
    ")\n",
    "\n",
    "# Training\n",
    "bagging_regressor.fit(X_train, y_train)\n",
    "\n",
    "# Predictions and evaluation\n",
    "y_pred_bagging = bagging_regressor.predict(X_test)\n",
    "r2_bagging = r2_score(y_test, y_pred_bagging)\n",
    "rmse_bagging = np.sqrt(mean_squared_error(y_test, y_pred_bagging))\n",
    "print(f'Bagging Regressor R² Score: {r2_bagging:.4f}')\n",
    "print(f'Bagging Regressor RMSE: {rmse_bagging:.4f}')\n"
   ]
  },
  {
   "cell_type": "code",
   "execution_count": 256,
   "metadata": {},
   "outputs": [
    {
     "data": {
      "image/png": "[encoded data removed]",
      "text/plain": [
       "<Figure size 800x500 with 1 Axes>"
      ]
     },
     "metadata": {},
     "output_type": "display_data"
    }
   ],
   "source": [
    "import matplotlib.pyplot as plt\n",
    "import numpy as np\n",
    "\n",
    "# Model names and their R² scores and RMSE values\n",
    "models = ['Gradient Boosting', 'Extra Trees', 'XGBoost', 'Stacked Model']\n",
    "r2_scores = [0.7110, 0.6501, 0.6892, 0.7322]\n",
    "rmse_values = [0.0753, 0.0829, 0.0781, 0.0739]\n",
    "\n",
    "x = np.arange(len(models))  # the label locations\n",
    "width = 0.4  # the width of the bars\n",
    "\n",
    "fig, ax = plt.subplots(figsize=(8, 5))\n",
    "\n",
    "# R² scores plot\n",
    "ax.bar(x - width/2, r2_scores, width, label='R² Score', color='skyblue')\n",
    "\n",
    "# RMSE values plot\n",
    "ax.bar(x + width/2, rmse_values, width, label='RMSE', color='lightcoral')\n",
    "\n",
    "# Adding labels and title\n",
    "ax.set_xlabel('Models')\n",
    "ax.set_ylabel('Scores')\n",
    "ax.set_title('Comparison of Model Performance')\n",
    "ax.set_xticks(x)\n",
    "ax.set_xticklabels(models)\n",
    "ax.legend()\n",
    "\n",
    "# Displaying the values on top of the bars\n",
    "for i in range(len(models)):\n",
    "    ax.text(i - width/2, r2_scores[i] + 0.005, f'{r2_scores[i]:.4f}', ha='center', va='bottom')\n",
    "    ax.text(i + width/2, rmse_values[i] + 0.005, f'{rmse_values[i]:.4f}', ha='center', va='bottom')\n",
    "\n",
    "plt.tight_layout()\n",
    "plt.show()\n"
   ]
  },
  {
   "cell_type": "code",
   "execution_count": null,
   "metadata": {},
   "outputs": [],
   "source": []
  },
  {
   "cell_type": "code",
   "execution_count": null,
   "metadata": {},
   "outputs": [],
   "source": []
  },
  {
   "cell_type": "code",
   "execution_count": null,
   "metadata": {},
   "outputs": [],
   "source": []
  },
  {
   "cell_type": "code",
   "execution_count": 198,
   "metadata": {},
   "outputs": [
    {
     "data": {
      "image/png": "[encoded data removed]",
      "text/plain": [
       "<Figure size 1200x700 with 2 Axes>"
      ]
     },
     "metadata": {},
     "output_type": "display_data"
    }
   ],
   "source": [
    "import matplotlib.pyplot as plt\n",
    "import numpy as np\n",
    "\n",
    "# Data\n",
    "models = ['Gradient Boosting', 'Extra Trees', 'Random Forest', 'Bagging Regressor', 'Voting Regressor', 'Stacked Model']\n",
    "r2_scores = [0.7110, 0.6501, 0.6301, 0.6794, 0.7142, 0.7322]\n",
    "rmse_scores = [0.0753, 0.0829, 0.0852, 0.0808, 0.0763, 0.0739]\n",
    "\n",
    "x = np.arange(len(models))\n",
    "width = 0.6  # Wider bars\n",
    "\n",
    "# Plot\n",
    "fig, ax1 = plt.subplots(figsize=(12, 7))\n",
    "\n",
    "# Bar plot for R² scores\n",
    "bars = ax1.bar(x, r2_scores, width=width, color='#2ca02c', alpha=0.85, label='R² Score')\n",
    "ax1.set_ylabel('R² Score', fontsize=13, color='#2ca02c')\n",
    "ax1.set_ylim(0.6, 0.75)\n",
    "ax1.tick_params(axis='y', labelcolor='#2ca02c')\n",
    "\n",
    "# Line plot with dots for RMSE — placed on top of bars\n",
    "ax2 = ax1.twinx()\n",
    "ax2.plot(x, rmse_scores, color='#d62728', marker='o', markersize=10, linestyle='', label='RMSE')\n",
    "ax2.set_ylabel('RMSE', fontsize=13, color='#d62728')\n",
    "ax2.set_ylim(0.07, 0.09)\n",
    "ax2.tick_params(axis='y', labelcolor='#d62728')\n",
    "\n",
    "# Annotations\n",
    "for i in range(len(models)):\n",
    "    ax1.text(x[i], r2_scores[i] + 0.003, f'{r2_scores[i]:.4f}', ha='center', fontsize=10, color='#1a4d1a')\n",
    "    ax2.text(x[i], rmse_scores[i] - 0.0012, f'{rmse_scores[i]:.4f}', ha='center', fontsize=10, color='#8b0000')\n",
    "\n",
    "# X-axis\n",
    "ax1.set_xticks(x)\n",
    "ax1.set_xticklabels(models, rotation=20, ha='right', fontsize=11)\n",
    "\n",
    "# Title and grid\n",
    "ax1.set_title('Model Performance Comparison: R² vs RMSE', fontsize=16, pad=20)\n",
    "ax1.grid(True, axis='y', linestyle='--', alpha=0.5)\n",
    "ax2.grid(False)\n",
    "\n",
    "# Combine legends\n",
    "lines_labels = [ax.get_legend_handles_labels() for ax in [ax1, ax2]]\n",
    "lines, labels = [sum(lol, []) for lol in zip(*lines_labels)]\n",
    "ax1.legend(lines, labels, loc='upper center', bbox_to_anchor=(0.5, -0.12), ncol=2, fontsize=11)\n",
    "\n",
    "plt.tight_layout()\n",
    "plt.show()\n"
   ]
  },
  {
   "cell_type": "code",
   "execution_count": 190,
   "metadata": {},
   "outputs": [
    {
     "data": {
      "image/png": "[encoded data removed]",
      "text/plain": [
       "<Figure size 1000x600 with 1 Axes>"
      ]
     },
     "metadata": {},
     "output_type": "display_data"
    }
   ],
   "source": [
    "import matplotlib.pyplot as plt\n",
    "import numpy as np\n",
    "\n",
    "# Model names and metrics\n",
    "models = ['Gradient Boosting', 'Random Forest', 'Extra Trees', 'Stacking', 'Voting', 'Bagging']\n",
    "r2_scores = [0.7110, 0.6301, 0.6501, 0.7322, 0.7142, 0.6794]\n",
    "rmse_scores = [0.0753, 0.0852, 0.0829, 0.0739, 0.0763, 0.0808]\n",
    "\n",
    "# X positions for bars\n",
    "x = np.arange(len(models))\n",
    "\n",
    "# Creating the plot\n",
    "fig, ax = plt.subplots(figsize=(10, 6))\n",
    "\n",
    "# Bar plot for R² Scores\n",
    "bar_width = 0.4\n",
    "ax.bar(x - bar_width/2, r2_scores, bar_width, label='R² Score', color='royalblue', alpha=0.8)\n",
    "\n",
    "# Bar plot for RMSE Scores\n",
    "ax.bar(x + bar_width/2, rmse_scores, bar_width, label='RMSE', color='darkorange', alpha=0.8)\n",
    "\n",
    "# Adding annotations on top of each bar\n",
    "for i in range(len(models)):\n",
    "    ax.text(x[i] - bar_width/2, r2_scores[i] + 0.005, f'{r2_scores[i]:.4f}', ha='center', va='bottom', fontsize=10)\n",
    "    ax.text(x[i] + bar_width/2, rmse_scores[i] + 0.005, f'{rmse_scores[i]:.4f}', ha='center', va='bottom', fontsize=10)\n",
    "\n",
    "# Customizing the plot\n",
    "ax.set_title('Comparison of Ensemble and Top Models', fontsize=14, fontweight='bold')\n",
    "ax.set_xticks(x)\n",
    "ax.set_xticklabels(models, rotation=30, ha='right')\n",
    "ax.set_ylabel('Scores', fontsize=12)\n",
    "ax.legend()\n",
    "\n",
    "# Grid and layout adjustments\n",
    "ax.grid(axis='y', linestyle='--', alpha=0.7)\n",
    "plt.tight_layout()\n",
    "\n",
    "# Display the plot\n",
    "plt.show()"
   ]
  },
  {
   "cell_type": "code",
   "execution_count": 206,
   "metadata": {},
   "outputs": [
    {
     "data": {
      "image/png": "[encoded data removed]",
      "text/plain": [
       "<Figure size 1200x700 with 1 Axes>"
      ]
     },
     "metadata": {},
     "output_type": "display_data"
    }
   ],
   "source": [
    "import matplotlib.pyplot as plt\n",
    "import numpy as np\n",
    "\n",
    "# Data\n",
    "models = ['Gradient Boosting', 'Extra Trees', 'Random Forest', 'Bagging Regressor', 'Voting Regressor', 'Stacked Model']\n",
    "r2_scores = [0.7110, 0.6501, 0.6301, 0.6794, 0.7142, 0.7322]\n",
    "rmse_scores = [0.0753, 0.0829, 0.0852, 0.0808, 0.0763, 0.0739]\n",
    "\n",
    "x = np.arange(len(models))  # label locations\n",
    "width = 0.35  # bar width\n",
    "\n",
    "# Plotting\n",
    "fig, ax = plt.subplots(figsize=(12, 7))\n",
    "\n",
    "# Bars for R² and RMSE\n",
    "r2 = ax.bar(x - width/2, r2_scores, width, label='R² Score', color='#2ca02c', alpha=0.85)\n",
    "rmse = ax.bar(x + width/2, rmse_scores, width, label='RMSE', color='#d62728', alpha=0.75)\n",
    "\n",
    "# Labels on top of bars\n",
    "for i in range(len(models)):\n",
    "    ax.text(x[i] - width/2, r2_scores[i] + 0.005, f'{r2_scores[i]:.4f}', ha='center', fontsize=10, color='#1a4d1a')\n",
    "    ax.text(x[i] + width/2, rmse_scores[i] + 0.002, f'{rmse_scores[i]:.4f}', ha='center', fontsize=10, color='#8b0000')\n",
    "\n",
    "# X-axis\n",
    "ax.set_xticks(x)\n",
    "ax.set_xticklabels(models, rotation=20, ha='right', fontsize=11)\n",
    "\n",
    "# Labels, title, grid\n",
    "ax.set_ylabel('Score', fontsize=13)\n",
    "ax.set_title('Model Performance Comparison: R² & RMSE', fontsize=16, pad=20)\n",
    "ax.grid(True, axis='y', linestyle='--', alpha=0.5)\n",
    "\n",
    "# Legend\n",
    "ax.legend(loc='upper center', bbox_to_anchor=(0.5, -0.08), ncol=2, fontsize=11)\n",
    "\n",
    "plt.tight_layout()\n",
    "plt.savefig('model_performance_comparison.png', dpi=300)\n",
    "\n",
    "plt.show()\n"
   ]
  },
  {
   "cell_type": "code",
   "execution_count": null,
   "metadata": {},
   "outputs": [],
   "source": []
  }
 ],
 "metadata": {
  "accelerator": "TPU",
  "colab": {
   "gpuType": "V28",
   "provenance": []
  },
  "kernelspec": {
   "display_name": "Python [conda env:base] *",
   "language": "python",
   "name": "conda-base-py"
  },
  "language_info": {
   "codemirror_mode": {
    "name": "ipython",
    "version": 3
   },
   "file_extension": ".py",
   "mimetype": "text/x-python",
   "name": "python",
   "nbconvert_exporter": "python",
   "pygments_lexer": "ipython3",
   "version": "3.12.7"
  }
 },
 "nbformat": 4,
 "nbformat_minor": 4
}
