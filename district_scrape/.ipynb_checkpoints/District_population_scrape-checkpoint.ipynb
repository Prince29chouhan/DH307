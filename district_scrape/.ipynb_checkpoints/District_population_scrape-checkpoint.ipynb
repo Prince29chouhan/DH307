{
 "cells": [
  {
   "cell_type": "code",
   "execution_count": 11,
   "metadata": {
    "id": "maUUsssUNuiC"
   },
   "outputs": [],
   "source": [
    "import requests\n",
    "import pandas as pd\n",
    "from bs4 import BeautifulSoup\n",
    "from io import StringIO  # Import StringIO to handle HTML as a file-like object\n",
    "\n",
    "def scrape_districts(wiki_url, output_csv=\"districts.csv\"):\n",
    "    \"\"\"\n",
    "    Scrapes the district table from the given Wikipedia URL and saves it to a CSV file.\n",
    "\n",
    "    Parameters:\n",
    "    - wiki_url (str): The URL of the Wikipedia page containing the districts table.\n",
    "    - output_csv (str): The filename where the data will be stored (default: 'districts.csv').\n",
    "    \"\"\"\n",
    "    try:\n",
    "        # Get page content\n",
    "        response = requests.get(wiki_url)\n",
    "        response.raise_for_status()  # Raise an error if request fails\n",
    "\n",
    "        # Parse the page\n",
    "        soup = BeautifulSoup(response.text, \"html.parser\")\n",
    "\n",
    "        # Find all tables on the page\n",
    "        tables = soup.find_all(\"table\")\n",
    "        if not tables:\n",
    "            print(f\"No tables found on {wiki_url}\")\n",
    "            return\n",
    "\n",
    "        # Identify the largest relevant table\n",
    "        selected_table = None\n",
    "        max_rows = 0\n",
    "\n",
    "        for table in tables:\n",
    "            try:\n",
    "                # Wrap the table HTML in StringIO to avoid FutureWarning\n",
    "                table_html = StringIO(str(table))\n",
    "                df = pd.read_html(table_html)[0]\n",
    "\n",
    "                # Ensure the table contains district-related information\n",
    "                relevant_keywords = [\"District\", \"Code\", \"Headquarters\", \"Population\", \"Area\"]\n",
    "                match_count = sum(1 for col in df.columns if any(key in str(col) for key in relevant_keywords))\n",
    "\n",
    "                if match_count >= 2 and len(df) > max_rows:  # Ensure it's the largest relevant table\n",
    "                    max_rows = len(df)\n",
    "                    selected_table = df\n",
    "            except Exception as e:\n",
    "                continue  # Ignore errors and move to the next table\n",
    "\n",
    "        # Save the correct table\n",
    "        if selected_table is not None:\n",
    "            selected_table.to_csv(output_csv, index=False, encoding=\"utf-8\")\n",
    "            print(f\"✅ Data saved successfully to {output_csv}\")\n",
    "        else:\n",
    "            print(f\"⚠ No relevant district table found on {wiki_url}\")\n",
    "\n",
    "    except Exception as e:\n",
    "        print(f\"❌ Error processing {wiki_url}: {e}\")\n"
   ]
  },
  {
   "cell_type": "code",
   "execution_count": 19,
   "metadata": {
    "id": "SZxhKZmozXOz"
   },
   "outputs": [],
   "source": [
    "# Dictionary mapping states to their Wikipedia URLs\n",
    "state_urls = {\n",
    "    \"Andhra Pradesh\": \"https://en.wikipedia.org/wiki/List_of_districts_of_Andhra_Pradesh\",\n",
    "    \"Arunachal Pradesh\": \"https://en.wikipedia.org/wiki/List_of_districts_of_Arunachal_Pradesh\",\n",
    "    \"Assam\": \"https://en.wikipedia.org/wiki/List_of_districts_of_Assam\",\n",
    "    \"Bihar\": \"https://en.wikipedia.org/wiki/List_of_districts_of_Bihar\",\n",
    "    \"Chhattisgarh\": \"https://en.wikipedia.org/wiki/List_of_districts_of_Chhattisgarh\",\n",
    "    \"Goa\": \"https://en.wikipedia.org/wiki/List_of_districts_of_Goa\",\n",
    "    \"Gujarat\": \"https://en.wikipedia.org/wiki/List_of_districts_of_Gujarat\",\n",
    "    \"Haryana\": \"https://en.wikipedia.org/wiki/List_of_districts_of_Haryana\",\n",
    "    \"Himachal Pradesh\": \"https://en.wikipedia.org/wiki/List_of_districts_of_Himachal_Pradesh\",\n",
    "    \"Jharkhand\": \"https://en.wikipedia.org/wiki/List_of_districts_of_Jharkhand\",\n",
    "    \"Karnataka\": \"https://en.wikipedia.org/wiki/List_of_districts_of_Karnataka\",\n",
    "    \"Kerala\": \"https://en.wikipedia.org/wiki/List_of_districts_of_Kerala\",\n",
    "    \"Madhya Pradesh\": \"https://en.wikipedia.org/wiki/List_of_districts_of_Madhya_Pradesh\",\n",
    "    \"Maharashtra\": \"https://en.wikipedia.org/wiki/List_of_districts_of_Maharashtra\",\n",
    "    \"Manipur\": \"https://en.wikipedia.org/wiki/List_of_districts_of_Manipur\",\n",
    "    \"Meghalaya\": \"https://en.wikipedia.org/wiki/List_of_districts_of_Meghalaya\",\n",
    "    \"Mizoram\": \"https://en.wikipedia.org/wiki/List_of_districts_of_Mizoram\",\n",
    "    \"Nagaland\": \"https://en.wikipedia.org/wiki/List_of_districts_of_Nagaland\",\n",
    "    \"Odisha\": \"https://en.wikipedia.org/wiki/List_of_districts_of_Odisha\",\n",
    "    \"Punjab\": \"https://en.wikipedia.org/wiki/List_of_districts_of_Punjab,_India\",\n",
    "    \"Rajasthan\": \"https://en.wikipedia.org/wiki/List_of_districts_of_Rajasthan\",\n",
    "    \"Sikkim\": \"https://en.wikipedia.org/wiki/List_of_districts_of_Sikkim\",\n",
    "    \"Tamil Nadu\": \"https://en.wikipedia.org/wiki/List_of_districts_of_Tamil_Nadu\",\n",
    "    \"Telangana\": \"https://en.wikipedia.org/wiki/List_of_districts_of_Telangana\",\n",
    "    \"Tripura\": \"https://en.wikipedia.org/wiki/List_of_districts_of_Tripura\",\n",
    "    \"Uttar Pradesh\": \"https://en.wikipedia.org/wiki/List_of_districts_of_Uttar_Pradesh\",\n",
    "    \"Uttarakhand\": \"https://en.wikipedia.org/wiki/List_of_districts_of_Uttarakhand\",\n",
    "    \"West Bengal\": \"https://en.wikipedia.org/wiki/List_of_districts_of_West_Bengal\",\n",
    "    \"Andaman and Nicobar Islands\": \"https://en.wikipedia.org/wiki/List_of_districts_of_Andaman_and_Nicobar_Islands\",\n",
    "    \"Dadra Nagar Haveli, Daman and Diu\": \"https://en.wikipedia.org/wiki/List_of_districts_of_Dadra_and_Nagar_Haveli_and_Daman_and_Diu\",\n",
    "    \"Jammu and Kashmir\": \"https://en.wikipedia.org/wiki/List_of_districts_of_Jammu_and_Kashmir\",\n",
    "    \"Ladakh\": \"https://en.wikipedia.org/wiki/List_of_districts_of_Ladakh\",\n",
    "    \"Delhi\": \"https://en.wikipedia.org/wiki/List_of_districts_of_Delhi\",\n",
    "    \"Puducherry\": \"https://en.wikipedia.org/wiki/List_of_districts_of_Puducherry\"\n",
    "}"
   ]
  },
  {
   "cell_type": "code",
   "execution_count": 21,
   "metadata": {
    "colab": {
     "base_uri": "https://localhost:8080/"
    },
    "id": "wNQfozf90LSW",
    "outputId": "b59ecb8d-fa41-4371-e5dc-324908bccabe"
   },
   "outputs": [
    {
     "name": "stdout",
     "output_type": "stream",
     "text": [
      "✅ Data saved successfully to Andhra Pradesh.csv\n",
      "✅ Data saved successfully to Arunachal Pradesh.csv\n",
      "✅ Data saved successfully to Assam.csv\n",
      "✅ Data saved successfully to Bihar.csv\n",
      "✅ Data saved successfully to Chhattisgarh.csv\n",
      "✅ Data saved successfully to Goa.csv\n",
      "✅ Data saved successfully to Gujarat.csv\n",
      "✅ Data saved successfully to Haryana.csv\n",
      "✅ Data saved successfully to Himachal Pradesh.csv\n",
      "✅ Data saved successfully to Jharkhand.csv\n",
      "✅ Data saved successfully to Karnataka.csv\n",
      "✅ Data saved successfully to Kerala.csv\n",
      "✅ Data saved successfully to Madhya Pradesh.csv\n",
      "✅ Data saved successfully to Maharashtra.csv\n",
      "✅ Data saved successfully to Manipur.csv\n",
      "✅ Data saved successfully to Meghalaya.csv\n",
      "✅ Data saved successfully to Mizoram.csv\n",
      "✅ Data saved successfully to Nagaland.csv\n",
      "✅ Data saved successfully to Odisha.csv\n",
      "✅ Data saved successfully to Punjab.csv\n",
      "✅ Data saved successfully to Rajasthan.csv\n",
      "✅ Data saved successfully to Sikkim.csv\n",
      "✅ Data saved successfully to Tamil Nadu.csv\n",
      "✅ Data saved successfully to Telangana.csv\n",
      "✅ Data saved successfully to Tripura.csv\n",
      "✅ Data saved successfully to Uttar Pradesh.csv\n",
      "✅ Data saved successfully to Uttarakhand.csv\n",
      "✅ Data saved successfully to West Bengal.csv\n",
      "✅ Data saved successfully to Andaman and Nicobar Islands.csv\n",
      "✅ Data saved successfully to Dadra Nagar Haveli, Daman and Diu.csv\n",
      "✅ Data saved successfully to Jammu and Kashmir.csv\n",
      "✅ Data saved successfully to Ladakh.csv\n",
      "✅ Data saved successfully to Delhi.csv\n",
      "✅ Data saved successfully to Puducherry.csv\n"
     ]
    }
   ],
   "source": [
    "for state, url in state_urls.items():\n",
    "  scrape_districts(url, state + '.csv')\n"
   ]
  },
  {
   "cell_type": "code",
   "execution_count": null,
   "metadata": {
    "id": "KXEWFqHp0Pqe"
   },
   "outputs": [],
   "source": []
  }
 ],
 "metadata": {
  "colab": {
   "provenance": []
  },
  "kernelspec": {
   "display_name": "Python [conda env:base] *",
   "language": "python",
   "name": "conda-base-py"
  },
  "language_info": {
   "codemirror_mode": {
    "name": "ipython",
    "version": 3
   },
   "file_extension": ".py",
   "mimetype": "text/x-python",
   "name": "python",
   "nbconvert_exporter": "python",
   "pygments_lexer": "ipython3",
   "version": "3.12.7"
  }
 },
 "nbformat": 4,
 "nbformat_minor": 4
}
